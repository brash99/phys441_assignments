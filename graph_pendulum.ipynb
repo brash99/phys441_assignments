{
 "cells": [
  {
   "cell_type": "code",
   "execution_count": 1,
   "metadata": {},
   "outputs": [
    {
     "name": "stdout",
     "output_type": "stream",
     "text": [
      "Welcome to JupyROOT 6.18/00\n"
     ]
    }
   ],
   "source": [
    "from ROOT import TCanvas\n",
    "from ROOT import TGraph, TGraphErrors\n",
    "from ROOT import gStyle\n",
    "from array import array\n",
    "import numpy as np\n",
    "import math\n",
    "\n",
    "xcanvas = 1000\n",
    "ycanvas = 800\n",
    "\n",
    "c1 = TCanvas( 'c1', 'Pendulum Amplitude vs. Time', 0, 0, xcanvas, ycanvas )\n",
    "c1.SetGridx()\n",
    "c1.SetGridy()\n",
    "c1.GetFrame().SetFillColor( 21 )\n",
    "c1.GetFrame().SetBorderMode(-1 )\n",
    "c1.GetFrame().SetBorderSize( 5 )\n",
    "c2 = TCanvas( 'c2', 'Pendulum Period vs. Time', 0, 0, xcanvas, ycanvas )\n",
    "c2.SetGridx()\n",
    "c2.SetGridy()\n",
    "c2.GetFrame().SetFillColor( 21 )\n",
    "c2.GetFrame().SetBorderMode(-1 )\n",
    "c2.GetFrame().SetBorderSize( 5 )"
   ]
  },
  {
   "cell_type": "code",
   "execution_count": 2,
   "metadata": {},
   "outputs": [],
   "source": [
    "# Initial Conditions\n",
    "length = 9.807\n",
    "method = 2 # 1 = Euler, 2 = Verlet\n",
    "theta0 = 45.0\n",
    "theta = theta0*math.pi/180.0\n",
    "omega = 0.0\n",
    "\n",
    "# Other constants\n",
    "gravity = 9.807 # gravitional acceleration\n",
    "g_over_L = gravity/length\n",
    "time = 0.0\n",
    "irev = 0.0\n",
    "tau = 0.001 \n",
    "\n",
    "Pi = math.pi"
   ]
  },
  {
   "cell_type": "code",
   "execution_count": 3,
   "metadata": {},
   "outputs": [
    {
     "name": "stdout",
     "output_type": "stream",
     "text": [
      "-0.7071067811865475 0.7853981633974483 0.7853978098440577\n"
     ]
    }
   ],
   "source": [
    "accel = -g_over_L*math.sin(theta)\n",
    "theta_old = theta - omega*tau + 0.5*tau*tau*accel\n",
    "print (accel, theta, theta_old)"
   ]
  },
  {
   "cell_type": "code",
   "execution_count": 4,
   "metadata": {},
   "outputs": [],
   "source": [
    "tau = 0.0001 # timestep in seconds\n",
    "nStep = 10000 # number of steps\n",
    "\n",
    "t_plot = array('d')\n",
    "th_plot = array('d')\n",
    "period = array('d')\n",
    "trev = array('d')"
   ]
  },
  {
   "cell_type": "code",
   "execution_count": 5,
   "metadata": {},
   "outputs": [],
   "source": [
    "for iStep in range(1,nStep+1):\n",
    "    t_plot.append(time)\n",
    "    th_plot.append(theta*180/Pi)\n",
    "    time = time + tau\n",
    "    accel = -g_over_L*math.sin(theta)\n",
    "    \n",
    "    if (method == 1):\n",
    "        theta_old = theta\n",
    "        theta = theta + tau*omega\n",
    "        omega = omega + tau*accel\n",
    "    else:\n",
    "        theta_new = 2*theta - theta_old + tau*tau*accel\n",
    "        theta_old = theta\n",
    "        theta = theta_new\n",
    "    \n",
    "    if (theta*theta_old < 0):\n",
    "        print (\"Turning point at time t = %f\" % time)\n",
    "        if (irev == 0):\n",
    "            time_old = time\n",
    "        else:\n",
    "            period.append(2.0*(time - time_old))\n",
    "            trev.append(time)\n",
    "            time_old = time\n",
    "        irev = irev + 1"
   ]
  },
  {
   "cell_type": "code",
   "execution_count": 6,
   "metadata": {},
   "outputs": [
    {
     "name": "stdout",
     "output_type": "stream",
     "text": [
      "-1\n"
     ]
    }
   ],
   "source": [
    "nPeriod = int(irev - 1)\n",
    "print (nPeriod)"
   ]
  },
  {
   "cell_type": "code",
   "execution_count": 7,
   "metadata": {},
   "outputs": [
    {
     "ename": "TypeError",
     "evalue": "none of the 11 overloaded methods succeeded. Full details:\n  TGraph::TGraph() =>\n    takes at most 0 arguments (3 given)\n  TGraph::TGraph(int n) =>\n    takes at most 1 arguments (3 given)\n  TGraph::TGraph(const TGraph& gr) =>\n    takes at most 1 arguments (3 given)\n  TGraph::TGraph(const TVectorT<float>& vx, const TVectorT<float>& vy) =>\n    takes at most 2 arguments (3 given)\n  TGraph::TGraph(const TVectorT<double>& vx, const TVectorT<double>& vy) =>\n    takes at most 2 arguments (3 given)\n  TGraph::TGraph(const TH1* h) =>\n    takes at most 1 arguments (3 given)\n  TGraph::TGraph(const TF1* f, const char* option = \"\") =>\n    takes at most 2 arguments (3 given)\n  TGraph::TGraph(const char* filename, const char* format = \"%lg %lg\", const char* option = \"\") =>\n    could not convert argument 1 (bad argument type for built-in operation)\n  TGraph::TGraph(int n, const int* x, const int* y) =>\n    could not convert argument 2\n  TGraph::TGraph(int n, const float* x, const float* y) =>\n    could not convert argument 2\n  TGraph::TGraph(int n, const double* x, const double* y) =>\n    could not convert argument 2",
     "output_type": "error",
     "traceback": [
      "\u001b[0;31m---------------------------------------------------------------------------\u001b[0m",
      "\u001b[0;31mTypeError\u001b[0m                                 Traceback (most recent call last)",
      "\u001b[0;32m<ipython-input-7-3985bcb2072b>\u001b[0m in \u001b[0;36m<module>\u001b[0;34m\u001b[0m\n\u001b[1;32m      1\u001b[0m \u001b[0mgr\u001b[0m \u001b[0;34m=\u001b[0m \u001b[0mTGraph\u001b[0m\u001b[0;34m(\u001b[0m\u001b[0mnStep\u001b[0m\u001b[0;34m,\u001b[0m\u001b[0mt_plot\u001b[0m\u001b[0;34m,\u001b[0m\u001b[0mth_plot\u001b[0m\u001b[0;34m)\u001b[0m\u001b[0;34m\u001b[0m\u001b[0;34m\u001b[0m\u001b[0m\n\u001b[0;32m----> 2\u001b[0;31m \u001b[0mgrr\u001b[0m \u001b[0;34m=\u001b[0m \u001b[0mTGraph\u001b[0m\u001b[0;34m(\u001b[0m\u001b[0mnPeriod\u001b[0m\u001b[0;34m,\u001b[0m\u001b[0mtrev\u001b[0m\u001b[0;34m,\u001b[0m\u001b[0mperiod\u001b[0m\u001b[0;34m)\u001b[0m\u001b[0;34m\u001b[0m\u001b[0;34m\u001b[0m\u001b[0m\n\u001b[0m",
      "\u001b[0;31mTypeError\u001b[0m: none of the 11 overloaded methods succeeded. Full details:\n  TGraph::TGraph() =>\n    takes at most 0 arguments (3 given)\n  TGraph::TGraph(int n) =>\n    takes at most 1 arguments (3 given)\n  TGraph::TGraph(const TGraph& gr) =>\n    takes at most 1 arguments (3 given)\n  TGraph::TGraph(const TVectorT<float>& vx, const TVectorT<float>& vy) =>\n    takes at most 2 arguments (3 given)\n  TGraph::TGraph(const TVectorT<double>& vx, const TVectorT<double>& vy) =>\n    takes at most 2 arguments (3 given)\n  TGraph::TGraph(const TH1* h) =>\n    takes at most 1 arguments (3 given)\n  TGraph::TGraph(const TF1* f, const char* option = \"\") =>\n    takes at most 2 arguments (3 given)\n  TGraph::TGraph(const char* filename, const char* format = \"%lg %lg\", const char* option = \"\") =>\n    could not convert argument 1 (bad argument type for built-in operation)\n  TGraph::TGraph(int n, const int* x, const int* y) =>\n    could not convert argument 2\n  TGraph::TGraph(int n, const float* x, const float* y) =>\n    could not convert argument 2\n  TGraph::TGraph(int n, const double* x, const double* y) =>\n    could not convert argument 2"
     ]
    }
   ],
   "source": [
    "gr = TGraph(nStep,t_plot,th_plot)\n",
    "grr = TGraph(nPeriod,trev,period)"
   ]
  },
  {
   "cell_type": "code",
   "execution_count": null,
   "metadata": {},
   "outputs": [],
   "source": [
    "gr.SetMarkerColor(4)\n",
    "grr.SetMarkerColor(4)\n",
    "gr.SetMarkerStyle(21)\n",
    "grr.SetMarkerStyle(22)\n",
    "gr.SetTitle(\"Pendulum Amplitude vs. Time\")\n",
    "gr.GetXaxis().SetTitle(\"Time\")\n",
    "gr.GetYaxis().SetTitle(\"Amplitude\")\n",
    "grr.SetTitle(\"Pendulum Period vs. Time\")\n",
    "grr.GetXaxis().SetTitle(\"Time\")\n",
    "grr.GetYaxis().SetTitle(\"Period\")\n",
    "\n",
    "c1.cd()\n",
    "gr.Draw(\"AP\")\n",
    "c1.Draw()"
   ]
  },
  {
   "cell_type": "code",
   "execution_count": null,
   "metadata": {},
   "outputs": [],
   "source": [
    "c2.cd()\n",
    "grr.Draw(\"AP\")\n",
    "c2.Draw()"
   ]
  },
  {
   "cell_type": "code",
   "execution_count": null,
   "metadata": {},
   "outputs": [],
   "source": [
    "AvePeriod = 0.0\n",
    "ErrorBar = 0.0\n",
    "for i in range(1,nPeriod+1):\n",
    "    AvePeriod = AvePeriod + period[i-1]\n",
    "AvePeriod = AvePeriod/nPeriod\n",
    "for i in range(1,nPeriod+1):\n",
    "    ErrorBar = ErrorBar + (period[i-1]-AvePeriod)*(period[i-1]-AvePeriod)\n",
    "ErrorBar = math.sqrt(ErrorBar/(nPeriod*(nPeriod-1)))\n",
    "print(\"Average Period = %f +/- %f\" % (AvePeriod,ErrorBar))\n",
    "    "
   ]
  },
  {
   "cell_type": "code",
   "execution_count": null,
   "metadata": {},
   "outputs": [],
   "source": [
    "t0=theta0*Pi/180.0\n",
    "t_infinite = 2.0*Pi/math.sqrt(g_over_L)*(1.0+t0*t0/16.0+math.pow(t0,4)*11.0/3072.0+math.pow(t0,6)*173.0/737280.0)\n",
    "error_infinite = 2.0*Pi/math.sqrt(g_over_L)*math.pow(t0,8)*22931.0/1321205760.0"
   ]
  },
  {
   "cell_type": "code",
   "execution_count": null,
   "metadata": {},
   "outputs": [],
   "source": [
    "print(\"Infinite series prediction = %f +/- %f\" % (t_infinite,error_infinite))"
   ]
  },
  {
   "cell_type": "code",
   "execution_count": null,
   "metadata": {},
   "outputs": [],
   "source": [
    "x = array('d')\n",
    "y = array('d')\n",
    "ex = array('d')\n",
    "ey = array('d')\n",
    "npoints = 2\n",
    "x.append(1)\n",
    "x.append(2)\n",
    "ex.append(0)\n",
    "ex.append(0)\n",
    "y.append(AvePeriod)\n",
    "y.append(t_infinite)\n",
    "ey.append(ErrorBar)\n",
    "ey.append(error_infinite)\n",
    "\n",
    "c3 = TCanvas(\"c3\",\"c3\",100,0,800,600)\n",
    "gr3 = TGraphErrors(npoints,x,y,ex,ey)\n",
    "gr3.SetMarkerStyle(21)\n",
    "gr3.SetTitle(\"Theory vs. Simulation\")\n",
    "gr3.GetXaxis().SetTitle(\"1=Sim,2=Theory\")\n",
    "gr3.GetYaxis().SetTitle(\"Average Period (s)\")\n",
    "gr3.Draw(\"AP\")\n",
    "c3.Draw()"
   ]
  },
  {
   "cell_type": "code",
   "execution_count": null,
   "metadata": {},
   "outputs": [],
   "source": []
  }
 ],
 "metadata": {
  "kernelspec": {
   "display_name": "Python 3",
   "language": "python",
   "name": "python3"
  },
  "language_info": {
   "codemirror_mode": {
    "name": "ipython",
    "version": 3
   },
   "file_extension": ".py",
   "mimetype": "text/x-python",
   "name": "python",
   "nbconvert_exporter": "python",
   "pygments_lexer": "ipython3",
   "version": "3.7.3"
  }
 },
 "nbformat": 4,
 "nbformat_minor": 2
}
