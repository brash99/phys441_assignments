{
 "cells": [
  {
   "cell_type": "code",
   "execution_count": 1,
   "metadata": {},
   "outputs": [],
   "source": [
    "from array import array\n",
    "import math\n",
    "import numpy as np"
   ]
  },
  {
   "cell_type": "code",
   "execution_count": 2,
   "metadata": {},
   "outputs": [],
   "source": [
    "def generator_function(x,par,ichoice):\n",
    "    if (ichoice == 5):\n",
    "        return par[0]+par[1]*x+par[2]*x*x+par[3]*x*x*x\n",
    "    elif (ichoice ==6):\n",
    "        return par[0]+par[1]*x+par[2]*x*x\n",
    "    else:\n",
    "        return par[0]+par[1]*x"
   ]
  },
  {
   "cell_type": "code",
   "execution_count": 3,
   "metadata": {},
   "outputs": [],
   "source": [
    "def fitfunction(x,*paramlist):\n",
    "    if (ichoice == 5):\n",
    "        return paramlist[0]+paramlist[1]*x+paramlist[2]*x*x+paramlist[3]*x*x*x\n",
    "    elif (ichoice ==6):\n",
    "        return paramlist[0]+paramlist[1]*x+paramlist[2]*x*x\n",
    "    else:\n",
    "        return paramlist[0]+paramlist[1]*x"
   ]
  },
  {
   "cell_type": "code",
   "execution_count": 4,
   "metadata": {},
   "outputs": [],
   "source": [
    "ichoice = 2"
   ]
  },
  {
   "cell_type": "code",
   "execution_count": 5,
   "metadata": {},
   "outputs": [],
   "source": [
    "if ichoice == 1:\n",
    "    m = 1\n",
    "    n = 15\n",
    "    par = []\n",
    "    par.append(1.80)\n",
    "    par.append(4.05)\n",
    "    par = np.array(par)\n",
    "    jitter = [-2,2,-1,1,0,-2,2,-1,1,0,-2,2,-1,1,0]\n",
    "    jitter = np.array(jitter)\n",
    "    sigma = [7,6,5,4,3,2,1,.5,1,2,3,4,5,6,7]\n",
    "    sigma = np.array(sigma)\n",
    "    Title = \"Linear Fit\"\n",
    "    xlow = 0.0\n",
    "    xhigh = 8.0\n",
    "elif ichoice == 2:\n",
    "    m = 1\n",
    "    n = 10\n",
    "    par = []\n",
    "    par.append(6.81)\n",
    "    par.append(0.656)\n",
    "    par = np.array(par)\n",
    "    jitter = [.3,.2,-.5,-.2,.2,.6,-.4,-1.5,.7,.5]\n",
    "    jitter = np.array(jitter)\n",
    "    sigma = [0.51,0.51,0.51,0.51,0.51,0.51,0.51,0.51,0.51,0.51]\n",
    "    sigma = np.array(sigma)\n",
    "    Title = \"Linear Fit\"\n",
    "    xlow = 41.0\n",
    "    xhigh = 50.0\n",
    "elif ichoice == 3:\n",
    "    m = 1\n",
    "    n = 15\n",
    "    par = []\n",
    "    par.append(1.80)\n",
    "    par.append(4.05)\n",
    "    par = np.array(par)\n",
    "    jitter = [-2,2,-1,1,0,-2,2,-1,1,0,-2,2,-1,1,0]\n",
    "    jitter = np.array(jitter)\n",
    "    sigma = [.7,6,5,4,3,2,1,.5,1,2,3,4,5,6,.7]\n",
    "    sigma = np.array(sigma)\n",
    "    Title = \"Linear Fit\"\n",
    "    xlow = -4.0\n",
    "    xhigh = 4.0\n",
    "elif ichoice == 4:\n",
    "    m = 1\n",
    "    n = 15\n",
    "    par = []\n",
    "    par.append(1.80)\n",
    "    par.append(4.05)\n",
    "    par = np.array(par)\n",
    "    jitter = [-2,2,-1,1,0,-2,2,-1,1,0,-2,2,-1,1,0]\n",
    "    jitter = np.array(jitter)\n",
    "    sigma = [1,2,3,4,5,6,7,8,7,6,5,4,3,2,1]\n",
    "    sigma = np.array(sigma)\n",
    "    Title = \"Linear Fit\"\n",
    "    xlow = -4.0\n",
    "    xhigh = 4.0\n",
    "elif ichoice == 5:\n",
    "    m = 3\n",
    "    n = 15\n",
    "    par = []\n",
    "    par.append(1.80)\n",
    "    par.append(4.05)\n",
    "    par.append(0.00)\n",
    "    par.append(0.20)\n",
    "    par = np.array(par)\n",
    "    jitter = [-2,2,-1,1,0,-2,2,-1,1,0,-2,2,-1,1,0]\n",
    "    jitter = np.array(jitter)\n",
    "    sigma = [7,6,5,4,3,2,1,.5,1,2,3,4,5,6,7]\n",
    "    sigma = np.array(sigma)\n",
    "    Title = \"Cubic Fit\"\n",
    "    xlow = -4.0\n",
    "    xhigh = 4.0\n",
    "elif ichoice == 6:\n",
    "    m = 2\n",
    "    n = 15\n",
    "    par = []\n",
    "    par.append(1.80)\n",
    "    par.append(4.05)\n",
    "    par.append(5.10)\n",
    "    par=np.array(par)\n",
    "    jitter = [-2,2,-1,1,0,-2,2,-1,1,0,-2,2,-1,1,0]\n",
    "    jitter = np.array(jitter)\n",
    "    sigma = [1,2,3,4,5,6,7,8,7,6,5,4,3,2,1]\n",
    "    sigma = np.array(sigma)\n",
    "    Title = \"Quadratic Fit\"\n",
    "    xlow = -4.0\n",
    "    xhigh = 4.0\n",
    "else:\n",
    "    print(\"Invalid choice!!!!\")"
   ]
  },
  {
   "cell_type": "code",
   "execution_count": 6,
   "metadata": {},
   "outputs": [],
   "source": [
    "x = [0.0 for i in range(n)]\n",
    "y = [0.0 for i in range(n)]\n",
    "ex = [0.0 for i in range(n)]\n",
    "ey = [0.0 for i in range(n)]\n",
    "x = np.array(x)\n",
    "y = np.array(y)\n",
    "ex = np.array(ex)\n",
    "ey = np.array(ey)\n",
    "\n",
    "rootfitstring = \"pol\"+str(m)"
   ]
  },
  {
   "cell_type": "code",
   "execution_count": 7,
   "metadata": {},
   "outputs": [
    {
     "name": "stdout",
     "output_type": "stream",
     "text": [
      "[41. 42. 43. 44. 45. 46. 47. 48. 49. 50.] [34.006 34.562 34.518 35.474 36.53  37.586 37.242 36.798 39.654 40.11 ] [0. 0. 0. 0. 0. 0. 0. 0. 0. 0.] [0.51 0.51 0.51 0.51 0.51 0.51 0.51 0.51 0.51 0.51]\n"
     ]
    }
   ],
   "source": [
    "for i in range(0,n):\n",
    "    x[i]=float(xlow+(xhigh-xlow)*i/(n-1))\n",
    "    y[i]=float(generator_function(x[i],par,ichoice)+jitter[i])\n",
    "    ex[i]=float(0.0)\n",
    "    ey[i]=float(sigma[i])\n",
    "    \n",
    "print(x,y,ex,ey)"
   ]
  },
  {
   "cell_type": "code",
   "execution_count": 8,
   "metadata": {},
   "outputs": [],
   "source": [
    "m_params = m + 1\n",
    "a = np.zeros(shape = (m_params,m_params))\n",
    "v = np.zeros(shape = (m_params,1))"
   ]
  },
  {
   "cell_type": "code",
   "execution_count": 9,
   "metadata": {},
   "outputs": [
    {
     "name": "stdout",
     "output_type": "stream",
     "text": [
      "A matrix = \n",
      "[[3.84467512e+01 1.74932718e+03]\n",
      " [1.74932718e+03 7.99115725e+04]]\n",
      "V matrix = \n",
      "[[ 1408.99653979]\n",
      " [64317.60861207]]\n",
      "A_inverse = \n",
      "[[ 6.55294364e+00 -1.43449091e-01]\n",
      " [-1.43449091e-01  3.15272727e-03]]\n",
      "Diagonal Check:\n",
      "[[ 1.00000000e+00 -5.74188209e-16]\n",
      " [-5.26297255e-13  1.00000000e+00]]\n",
      "Coefficients:\n",
      "k = 0, coeff = 6.772424 +/- 2.559872\n",
      "k = 1, coeff = 0.656606 +/- 0.056149\n"
     ]
    }
   ],
   "source": [
    "for k in range(0,m_params):\n",
    "    for i in range(0,n):\n",
    "        v[k][0]=v[k][0]+y[i]*math.pow(x[i],k)/math.pow(ey[i],2)\n",
    "    #print (\"v[%d] = %f\" % (k,v[k][0]))\n",
    "    for j in range(0,m_params):\n",
    "        for i in range(0,n):\n",
    "            a[k][j]=a[k][j]+math.pow(x[i],k+j)/math.pow(ey[i],2)\n",
    "        #print (\"a[%d][%d] = %f\" %(k,j,a[k][j]))\n",
    "        \n",
    "print (\"A matrix = \")        \n",
    "print (a)\n",
    "print(\"V matrix = \")\n",
    "print (v)\n",
    "\n",
    "ainv = np.linalg.inv(a)\n",
    "u1 = np.dot(a,ainv)\n",
    "\n",
    "print (\"A_inverse = \")\n",
    "print (ainv)\n",
    "print (\"Diagonal Check:\")\n",
    "print (u1)\n",
    "coeff = ainv*np.matrix(v)\n",
    "print (\"Coefficients:\")\n",
    "for k in range(0,m+1):\n",
    "    print(\"k = %d, coeff = %f +/- %f\" % (k,coeff[k],math.pow(ainv[k][k],0.5)))"
   ]
  },
  {
   "cell_type": "code",
   "execution_count": 10,
   "metadata": {},
   "outputs": [
    {
     "name": "stdout",
     "output_type": "stream",
     "text": [
      "i = 0  y = 34.006000  yfit = 33.693273\n",
      "i = 1  y = 34.562000  yfit = 34.349879\n",
      "i = 2  y = 34.518000  yfit = 35.006485\n",
      "i = 3  y = 35.474000  yfit = 35.663091\n",
      "i = 4  y = 36.530000  yfit = 36.319697\n",
      "i = 5  y = 37.586000  yfit = 36.976303\n",
      "i = 6  y = 37.242000  yfit = 37.632909\n",
      "i = 7  y = 36.798000  yfit = 38.289515\n",
      "i = 8  y = 39.654000  yfit = 38.946121\n",
      "i = 9  y = 40.110000  yfit = 39.602727\n",
      "chi2/dof = 15.259399 / 8.000000\n",
      "[[ 1.         -0.99801342]\n",
      " [-0.99801342  1.        ]]\n"
     ]
    }
   ],
   "source": [
    "yfit = 0\n",
    "chi2 = 0\n",
    "\n",
    "for i in range(0,n):\n",
    "    for j in range(0,m+1):\n",
    "        yfit = yfit + coeff[j]*math.pow(x[i],j)\n",
    "    print (\"i = %d  y = %f  yfit = %f\" % (i,y[i],yfit))\n",
    "    chi2 = chi2 + math.pow(((yfit-y[i])/ey[i]),2)\n",
    "    yfit = 0\n",
    "    \n",
    "chi2perdof = chi2/(n-m)\n",
    "print (\"chi2/dof = %f / %f\" % (chi2,(n-m-1)))\n",
    "\n",
    "rho = np.zeros(shape = (m_params,m_params))\n",
    "\n",
    "for k in range(0,m_params):\n",
    "    for j in range(0,m_params):\n",
    "        rho[k][j]=rho[k][j]+ainv[k][j]/math.sqrt(ainv[k][k]*ainv[j][j])    \n",
    "print (rho)"
   ]
  },
  {
   "cell_type": "code",
   "execution_count": null,
   "metadata": {},
   "outputs": [],
   "source": []
  },
  {
   "cell_type": "code",
   "execution_count": 11,
   "metadata": {},
   "outputs": [
    {
     "name": "stdout",
     "output_type": "stream",
     "text": [
      "0 41.0 [[33.69327273]] 0.29975444495908143 33.99302717223065 33.39351828231248\n",
      "1 42.0 [[34.34987879]] 0.2542260983670019 34.60410488624463 34.09565268951063\n",
      "2 43.0 [[35.00648485]] 0.21380960094098883 35.220294449424685 34.792675247542704\n",
      "3 44.0 [[35.66309091]] 0.18194404734323164 35.84503495643299 35.48114686174653\n",
      "4 45.0 [[36.31969697]] 0.16370150218669463 36.48339847188252 36.15599546750913\n",
      "5 46.0 [[36.97630303]] 0.16370150218670007 37.14000453248859 36.812601528115195\n",
      "6 47.0 [[37.63290909]] 0.18194404734322675 37.81485313825119 37.45096504356473\n",
      "7 48.0 [[38.28951515]] 0.2138096009409909 38.503324752455015 38.07570555057303\n",
      "8 49.0 [[38.94612121]] 0.2542260983669984 39.20034731048709 38.69189511375309\n",
      "9 50.0 [[39.60272727]] 0.29975444495908143 39.90248171768524 39.30297282776707\n"
     ]
    }
   ],
   "source": [
    "xfiterr = array('d')\n",
    "yfiterr = array('d')\n",
    "yfitplus2 = array('d')\n",
    "yfitminus2 = array('d')\n",
    "\n",
    "for i in range(0,n):\n",
    "    xfiterr.append(xlow+(xhigh-xlow)*i/(n-1))\n",
    "    yerror2 = 0.0\n",
    "    yval = 0.0\n",
    "    for k in range(0,m+1):\n",
    "        for j in range(0,m+1):\n",
    "            term = rho[k][j]*math.pow(xfiterr[i],k)*math.pow(ainv[k][k],0.5)*(math.pow(xfiterr[i],j)*math.pow(ainv[j][j],0.5))\n",
    "            #print (k,j,term)\n",
    "            yerror2 = yerror2 + term\n",
    "        yval = yval + coeff[k]*math.pow(xfiterr[i],k)\n",
    "    yfiterr.append(yval)\n",
    "    yfitplus2.append(yval+math.sqrt(yerror2))\n",
    "    yfitminus2.append(yval-math.sqrt(yerror2))\n",
    "    print(i,xfiterr[i],yval,math.sqrt(yerror2),yfitplus2[i],yfitminus2[i])"
   ]
  },
  {
   "cell_type": "code",
   "execution_count": 12,
   "metadata": {
    "scrolled": false
   },
   "outputs": [
    {
     "name": "stdout",
     "output_type": "stream",
     "text": [
      "Welcome to JupyROOT 6.18/00\n",
      "Fit 1: 15.259399 8.000000 \n",
      "\n"
     ]
    },
    {
     "data": {
      "image/png": "[encoded data removed]",
      "text/plain": [
       "<IPython.core.display.Image object>"
      ]
     },
     "metadata": {},
     "output_type": "display_data"
    }
   ],
   "source": [
    "#print (n,x,y)\n",
    "\n",
    "from ROOT import TCanvas, TFile\n",
    "from ROOT import TGraph, TF1, TGraphErrors\n",
    "from ROOT import gStyle\n",
    "gStyle.SetOptFit(1)\n",
    "\n",
    "c1 = TCanvas( 'c1', 'Error Band Fitting Example', 200, 10, 1400, 1000 )\n",
    "c1.SetGridx()\n",
    "c1.SetGridy()\n",
    "c1.GetFrame().SetFillColor( 21 )\n",
    "c1.GetFrame().SetBorderMode(-1 )\n",
    "c1.GetFrame().SetBorderSize( 5 )\n",
    "\n",
    "gr = TGraphErrors(n,x,y,ex,ey)\n",
    "grp = TGraph(n,xfiterr,yfitplus2)\n",
    "grm = TGraph(n,xfiterr,yfitminus2)\n",
    "\n",
    "pfit1 = TF1(\"pfit1\",rootfitstring)\n",
    "\n",
    "gr.SetMarkerStyle(21)\n",
    "gr.SetTitle(Title)\n",
    "gr.GetXaxis().SetTitle(\"X\")\n",
    "gr.GetYaxis().SetTitle(\"Y\")\n",
    "gr.GetXaxis().SetLimits(xlow-1.0,xhigh+6.0) \n",
    "#gr.GetHistogram().SetMaximum(5.0)\n",
    "#gr.GetHistogram().SetMinimum(0.0)\n",
    "gr.Fit(\"pfit1\",\"q\")\n",
    "pfit1chi2 = pfit1.GetChisquare()\n",
    "pfit1ndf = pfit1.GetNDF()\n",
    "pfit1chi2ndf = pfit1chi2/pfit1ndf\n",
    "print(\"Fit 1: %f %f \\n\" % (pfit1chi2,pfit1ndf))\n",
    "gr.Draw(\"AP\")\n",
    "grp.SetLineColor(2)\n",
    "grm.SetLineColor(2)\n",
    "grp.Draw(\"L\")\n",
    "grm.Draw(\"L\")\n",
    "c1.Draw()"
   ]
  },
  {
   "cell_type": "code",
   "execution_count": 13,
   "metadata": {},
   "outputs": [
    {
     "name": "stdout",
     "output_type": "stream",
     "text": [
      "Coefficients (from curve_fit)\n",
      "[6.77242408 0.65660606]\n",
      "Covariance Matrix (from curve_fit)\n",
      "[[ 6.55294279e+00 -1.43449068e-01]\n",
      " [-1.43449068e-01  3.15272667e-03]]\n",
      "Chi^2 / dof = 1.526E+01 / 8\n",
      "Fit Parameter 0: 6.772E+00 +/- 2.560E+00\n",
      "0 1 -9.980E-01\n",
      "Fit Parameter 1: 6.566E-01 +/- 5.615E-02\n"
     ]
    },
    {
     "data": {
      "text/plain": [
       "<Figure size 1500x1200 with 1 Axes>"
      ]
     },
     "metadata": {},
     "output_type": "display_data"
    }
   ],
   "source": [
    "import matplotlib.pyplot as plt\n",
    "from scipy.optimize import curve_fit\n",
    "\n",
    "fig = plt.figure(figsize=(15,12))\n",
    "ax1 = fig.add_subplot(111)\n",
    "\n",
    "ax1.set_title(Title)\n",
    "ax1.set_xlabel('X')\n",
    "ax1.set_ylabel('Y')\n",
    "ax1.set_xlim(xlow-1,xhigh+6)\n",
    "ax1.set_yscale(\"linear\",nonposy='clip')\n",
    "ax1.grid(True)\n",
    "\n",
    "ax1.errorbar(x,y,yerr=sigma,fmt='o')\n",
    "\n",
    "init_vals = [0.0 for x in range(0,m_params)]\n",
    "popt, pcov = curve_fit(fitfunction,x,y,p0=init_vals,sigma=sigma,absolute_sigma=True)\n",
    "\n",
    "xi = np.linspace(np.min(x),np.max(x),100)\n",
    "ps = np.random.multivariate_normal(popt,pcov,10000)\n",
    "ysample=np.asarray([fitfunction(xi,*pi) for pi in ps])\n",
    "lower = np.percentile(ysample,16.0,axis=0)\n",
    "upper = np.percentile(ysample,84.0,axis=0)\n",
    "\n",
    "print(\"Coefficients (from curve_fit)\")\n",
    "print (popt)\n",
    "print(\"Covariance Matrix (from curve_fit)\")\n",
    "print (pcov)\n",
    "\n",
    "npoints = n\n",
    "\n",
    "yfit = []\n",
    "chi2=0\n",
    "for i in range (0,npoints):\n",
    "    yfit.append(fitfunction(x[i],*popt))\n",
    "    #chi2 += (y[i]-yfit[i])*(y[i]-yfit[i])\n",
    "    chi2 += (y[i]-yfit[i])*(y[i]-yfit[i])/(sigma[i]*sigma[i])\n",
    "\n",
    "print (\"Chi^2 / dof = %.3E / %d\" % (chi2,npoints-len(init_vals)))\n",
    "\n",
    "param = []\n",
    "rhom = []\n",
    "param.append(float(chi2))\n",
    "param.append(npoints-len(init_vals))\n",
    "for ii in range(0,len(init_vals)):\n",
    "    param.append(float(popt[ii]))\n",
    "    param.append(float(np.sqrt(pcov[ii][ii])))\n",
    "    print(\"Fit Parameter %d: %.3E +/- %.3E\" % (ii,popt[ii],np.sqrt(pcov[ii][ii])))\n",
    "    for jj in range(0,len(init_vals)):\n",
    "        rhom.append(float(pcov[ii][jj])/pow(float(pcov[ii][ii]*pcov[jj][jj]),0.5))\n",
    "        if jj > ii:\n",
    "            print(\"%d %d %.3E\" % (ii,jj,rhom[ii*len(init_vals)+jj]))\n",
    "\n",
    "mylabel = \"Chi^2/dof = %.3E / %d\\n\"\n",
    "for i in range(0,len(init_vals)):\n",
    "    code = \"p\" + str(i)\n",
    "    mylabel = mylabel + code + \" = %.3E +/- %.3E\\n\"\n",
    "\n",
    "ax1.plot(xi, fitfunction(xi, *popt), 'r-', label = mylabel % tuple(param))\n",
    "ax1.plot(xi,lower,'r--')\n",
    "ax1.plot(xi,upper,'r--')\n",
    "\n",
    "leg = ax1.legend()\n",
    "plt.show()"
   ]
  },
  {
   "cell_type": "code",
   "execution_count": 14,
   "metadata": {},
   "outputs": [
    {
     "name": "stdout",
     "output_type": "stream",
     "text": [
      "P201 Error Calculation = 33.693273 +/- 3.442772 \n",
      "Proper Error Calculation = 33.693273 +/- 0.299754 \n",
      "P201 Error Calculation = 34.349879 +/- 3.480568 \n",
      "Proper Error Calculation = 34.349879 +/- 0.254226 \n",
      "P201 Error Calculation = 35.006485 +/- 3.518854 \n",
      "Proper Error Calculation = 35.006485 +/- 0.213810 \n",
      "P201 Error Calculation = 35.663091 +/- 3.557615 \n",
      "Proper Error Calculation = 35.663091 +/- 0.181944 \n",
      "P201 Error Calculation = 36.319697 +/- 3.596834 \n",
      "Proper Error Calculation = 36.319697 +/- 0.163702 \n",
      "P201 Error Calculation = 36.976303 +/- 3.636498 \n",
      "Proper Error Calculation = 36.976303 +/- 0.163702 \n",
      "P201 Error Calculation = 37.632909 +/- 3.676591 \n",
      "Proper Error Calculation = 37.632909 +/- 0.181944 \n",
      "P201 Error Calculation = 38.289515 +/- 3.717099 \n",
      "Proper Error Calculation = 38.289515 +/- 0.213810 \n",
      "P201 Error Calculation = 38.946121 +/- 3.758010 \n",
      "Proper Error Calculation = 38.946121 +/- 0.254226 \n",
      "P201 Error Calculation = 39.602727 +/- 3.799311 \n",
      "Proper Error Calculation = 39.602727 +/- 0.299754 \n",
      "[41. 42. 43. 44. 45. 46. 47. 48. 49. 50.] array('d', [3.442771874786108, 3.4805681354420597, 3.518854410690564, 3.5576148802763505, 3.5968342140883336, 3.636497565715482, 3.6765905648872925, 3.7170993089675926, 3.758010353655495, 3.799310703033105]) array('d', [0.29975444495908476, 0.25422609836699905, 0.21380960094099066, 0.18194404734322944, 0.1637015021866972, 0.1637015021866972, 0.18194404734322944, 0.21380960094099066, 0.25422609836699905, 0.29975444495908476])\n"
     ]
    }
   ],
   "source": [
    "yerr_trad = array('d')\n",
    "yerr_proper = array('d')\n",
    "ymax = 0.0\n",
    "for index in range(n):\n",
    "    yfitvalue = 0.0\n",
    "    yerrorvalue = 0.0\n",
    "    for k in range(0,m_params):\n",
    "        yfitvalue = yfitvalue + coeff[k]*math.pow(x[index],k)\n",
    "        yerrorvalue = yerrorvalue + math.pow(math.pow(x[index],k)*math.pow(ainv[k][k],0.5),2)\n",
    "    yerrorvalue = math.sqrt(yerrorvalue)\n",
    "    if yerrorvalue>ymax:\n",
    "        ymax = yerrorvalue\n",
    "    print (\"P201 Error Calculation = %f +/- %f \" % (yfitvalue,yerrorvalue))\n",
    "    print (\"Proper Error Calculation = %f +/- %f \" % ((yfitplus2[index]+yfitminus2[index])/2.0,(yfitplus2[index]-yfitminus2[index])/2.0))\n",
    "    yerr_trad.append(yerrorvalue)\n",
    "    yerr_proper.append((yfitplus2[index]-yfitminus2[index])/2.0)\n",
    "\n",
    "print(x,yerr_trad,yerr_proper)"
   ]
  },
  {
   "cell_type": "code",
   "execution_count": 15,
   "metadata": {},
   "outputs": [
    {
     "data": {
      "image/png": "[encoded data removed]",
      "text/plain": [
       "<IPython.core.display.Image object>"
      ]
     },
     "metadata": {},
     "output_type": "display_data"
    }
   ],
   "source": [
    "c2 = TCanvas( 'c2', 'Error Band Comparison', 200, 10, 1400, 1000 )\n",
    "c2.SetGridx()\n",
    "c2.SetGridy()\n",
    "c2.GetFrame().SetFillColor( 21 )\n",
    "c2.GetFrame().SetBorderMode(-1 )\n",
    "c2.GetFrame().SetBorderSize( 5 )\n",
    "\n",
    "grtrad = TGraph(n,x,yerr_trad)\n",
    "grprop = TGraph(n,x,yerr_proper)\n",
    "\n",
    "grtrad.SetMarkerStyle(21)\n",
    "grprop.SetMarkerStyle(22)\n",
    "grtrad.SetTitle(Title)\n",
    "grtrad.GetXaxis().SetTitle(\"X\")\n",
    "grtrad.GetYaxis().SetTitle(\"Y\")\n",
    "grtrad.GetXaxis().SetLimits(xlow-1.0,xhigh+6.0) \n",
    "grtrad.GetHistogram().SetMaximum(1.1*ymax)\n",
    "grtrad.GetHistogram().SetMinimum(0.0)\n",
    "grtrad.Draw(\"APL\")\n",
    "grprop.Draw(\"PL\")\n",
    "\n",
    "c2.Draw()"
   ]
  },
  {
   "cell_type": "code",
   "execution_count": null,
   "metadata": {},
   "outputs": [],
   "source": []
  },
  {
   "cell_type": "code",
   "execution_count": null,
   "metadata": {},
   "outputs": [],
   "source": []
  },
  {
   "cell_type": "code",
   "execution_count": null,
   "metadata": {},
   "outputs": [],
   "source": []
  }
 ],
 "metadata": {
  "kernelspec": {
   "display_name": "Python 3",
   "language": "python",
   "name": "python3"
  },
  "language_info": {
   "codemirror_mode": {
    "name": "ipython",
    "version": 3
   },
   "file_extension": ".py",
   "mimetype": "text/x-python",
   "name": "python",
   "nbconvert_exporter": "python",
   "pygments_lexer": "ipython3",
   "version": "3.7.3"
  }
 },
 "nbformat": 4,
 "nbformat_minor": 2
}
