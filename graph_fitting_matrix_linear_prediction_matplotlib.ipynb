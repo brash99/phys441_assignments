{
 "cells": [
  {
   "cell_type": "code",
   "execution_count": 1,
   "metadata": {},
   "outputs": [],
   "source": [
    "from array import array\n",
    "import math\n",
    "import numpy as np"
   ]
  },
  {
   "cell_type": "code",
   "execution_count": 2,
   "metadata": {},
   "outputs": [],
   "source": [
    "def generator_function(x,par,ichoice):\n",
    "    if (ichoice == 5):\n",
    "        return par[0]+par[1]*x+par[2]*x*x+par[3]*x*x*x\n",
    "    elif (ichoice ==6):\n",
    "        return par[0]+par[1]*x+par[2]*x*x\n",
    "    else:\n",
    "        return par[0]+par[1]*x"
   ]
  },
  {
   "cell_type": "code",
   "execution_count": 3,
   "metadata": {},
   "outputs": [],
   "source": [
    "def fitfunction(x,*paramlist):\n",
    "    if (ichoice == 5):\n",
    "        return paramlist[0]+paramlist[1]*x+paramlist[2]*x*x+paramlist[3]*x*x*x\n",
    "    elif (ichoice ==6):\n",
    "        return paramlist[0]+paramlist[1]*x+paramlist[2]*x*x\n",
    "    else:\n",
    "        return paramlist[0]+paramlist[1]*x"
   ]
  },
  {
   "cell_type": "code",
   "execution_count": 4,
   "metadata": {},
   "outputs": [],
   "source": [
    "ichoice = 1"
   ]
  },
  {
   "cell_type": "code",
   "execution_count": 5,
   "metadata": {},
   "outputs": [],
   "source": [
    "if ichoice == 1:\n",
    "    m = 1\n",
    "    n = 15\n",
    "    par = []\n",
    "    par.append(1.80)\n",
    "    par.append(4.05)\n",
    "    par = np.array(par)\n",
    "    jitter = [-2,2,-1,1,0,-2,2,-1,1,0,-2,2,-1,1,0]\n",
    "    jitter = np.array(jitter)\n",
    "    sigma = [7,6,5,4,3,2,1,.5,1,2,3,4,5,6,7]\n",
    "    sigma = np.array(sigma)\n",
    "    Title = \"Linear Fit\"\n",
    "    xlow = 0.0\n",
    "    xhigh = 8.0\n",
    "elif ichoice == 2:\n",
    "    m = 1\n",
    "    n = 10\n",
    "    par = []\n",
    "    par.append(6.81)\n",
    "    par.append(0.656)\n",
    "    par = np.array(par)\n",
    "    jitter = [.3,.2,-.5,-.2,.2,.6,-.4,-1.5,.7,.5]\n",
    "    jitter = np.array(jitter)\n",
    "    sigma = [0.51,0.51,0.51,0.51,0.51,0.51,0.51,0.51,0.51,0.51]\n",
    "    sigma = np.array(sigma)\n",
    "    Title = \"Linear Fit\"\n",
    "    xlow = 41.0\n",
    "    xhigh = 50.0\n",
    "elif ichoice == 3:\n",
    "    m = 1\n",
    "    n = 15\n",
    "    par = []\n",
    "    par.append(1.80)\n",
    "    par.append(4.05)\n",
    "    par = np.array(par)\n",
    "    jitter = [-2,2,-1,1,0,-2,2,-1,1,0,-2,2,-1,1,0]\n",
    "    jitter = np.array(jitter)\n",
    "    sigma = [.7,6,5,4,3,2,1,.5,1,2,3,4,5,6,.7]\n",
    "    sigma = np.array(sigma)\n",
    "    Title = \"Linear Fit\"\n",
    "    xlow = -4.0\n",
    "    xhigh = 4.0\n",
    "elif ichoice == 4:\n",
    "    m = 1\n",
    "    n = 15\n",
    "    par = []\n",
    "    par.append(1.80)\n",
    "    par.append(4.05)\n",
    "    par = np.array(par)\n",
    "    jitter = [-2,2,-1,1,0,-2,2,-1,1,0,-2,2,-1,1,0]\n",
    "    jitter = np.array(jitter)\n",
    "    sigma = [1,2,3,4,5,6,7,8,7,6,5,4,3,2,1]\n",
    "    sigma = np.array(sigma)\n",
    "    Title = \"Linear Fit\"\n",
    "    xlow = -4.0\n",
    "    xhigh = 4.0\n",
    "elif ichoice == 5:\n",
    "    m = 3\n",
    "    n = 15\n",
    "    par = []\n",
    "    par.append(1.80)\n",
    "    par.append(4.05)\n",
    "    par.append(0.00)\n",
    "    par.append(0.20)\n",
    "    par = np.array(par)\n",
    "    jitter = [-2,2,-1,1,0,-2,2,-1,1,0,-2,2,-1,1,0]\n",
    "    jitter = np.array(jitter)\n",
    "    sigma = [7,6,5,4,3,2,1,.5,1,2,3,4,5,6,7]\n",
    "    sigma = np.array(sigma)\n",
    "    Title = \"Cubic Fit\"\n",
    "    xlow = -4.0\n",
    "    xhigh = 4.0\n",
    "elif ichoice == 6:\n",
    "    m = 2\n",
    "    n = 15\n",
    "    par = []\n",
    "    par.append(1.80)\n",
    "    par.append(4.05)\n",
    "    par.append(5.10)\n",
    "    par=np.array(par)\n",
    "    jitter = [-2,2,-1,1,0,-2,2,-1,1,0,-2,2,-1,1,0]\n",
    "    jitter = np.array(jitter)\n",
    "    sigma = [1,2,3,4,5,6,7,8,7,6,5,4,3,2,1]\n",
    "    sigma = np.array(sigma)\n",
    "    Title = \"Quadratic Fit\"\n",
    "    xlow = -4.0\n",
    "    xhigh = 4.0\n",
    "else:\n",
    "    print(\"Invalid choice!!!!\")"
   ]
  },
  {
   "cell_type": "code",
   "execution_count": 6,
   "metadata": {},
   "outputs": [],
   "source": [
    "x = [0.0 for i in range(n)]\n",
    "y = [0.0 for i in range(n)]\n",
    "ex = [0.0 for i in range(n)]\n",
    "ey = [0.0 for i in range(n)]\n",
    "x = np.array(x)\n",
    "y = np.array(y)\n",
    "ex = np.array(ex)\n",
    "ey = np.array(ey)\n",
    "\n",
    "rootfitstring = \"pol\"+str(m)"
   ]
  },
  {
   "cell_type": "code",
   "execution_count": 7,
   "metadata": {},
   "outputs": [
    {
     "name": "stdout",
     "output_type": "stream",
     "text": [
      "[0.         0.57142857 1.14285714 1.71428571 2.28571429 2.85714286\n",
      " 3.42857143 4.         4.57142857 5.14285714 5.71428571 6.28571429\n",
      " 6.85714286 7.42857143 8.        ] [-0.2         6.11428571  5.42857143  9.74285714 11.05714286 11.37142857\n",
      " 17.68571429 17.         21.31428571 22.62857143 22.94285714 29.25714286\n",
      " 28.57142857 32.88571429 34.2       ] [0. 0. 0. 0. 0. 0. 0. 0. 0. 0. 0. 0. 0. 0. 0.] [7.  6.  5.  4.  3.  2.  1.  0.5 1.  2.  3.  4.  5.  6.  7. ]\n"
     ]
    }
   ],
   "source": [
    "for i in range(0,n):\n",
    "    x[i]=float(xlow+(xhigh-xlow)*i/(n-1))\n",
    "    y[i]=float(generator_function(x[i],par,ichoice)+jitter[i])\n",
    "    ex[i]=float(0.0)\n",
    "    ey[i]=float(sigma[i])\n",
    "    \n",
    "print(x,y,ex,ey)"
   ]
  },
  {
   "cell_type": "code",
   "execution_count": 8,
   "metadata": {},
   "outputs": [],
   "source": [
    "m_params = m + 1\n",
    "a = np.zeros(shape = (m_params,m_params))\n",
    "v = np.zeros(shape = (m_params,1))"
   ]
  },
  {
   "cell_type": "code",
   "execution_count": 9,
   "metadata": {},
   "outputs": [
    {
     "name": "stdout",
     "output_type": "stream",
     "text": [
      "A matrix = \n",
      "[[  7.0235941   28.09437642]\n",
      " [ 28.09437642 116.94893424]]\n",
      "V matrix = \n",
      "[[124.85248866]\n",
      " [517.75417234]]\n",
      "A_inverse = \n",
      "[[ 3.64237725 -0.875     ]\n",
      " [-0.875       0.21875   ]]\n",
      "Diagonal Check:\n",
      "[[ 1.000000e+00  2.780580e-16]\n",
      " [-4.448928e-15  1.000000e+00]]\n",
      "Coefficients:\n",
      "k = 0, coeff = 1.724963 +/- 1.908501\n",
      "k = 1, coeff = 4.012798 +/- 0.467707\n"
     ]
    }
   ],
   "source": [
    "for k in range(0,m_params):\n",
    "    for i in range(0,n):\n",
    "        v[k][0]=v[k][0]+y[i]*math.pow(x[i],k)/math.pow(ey[i],2)\n",
    "    #print (\"v[%d] = %f\" % (k,v[k][0]))\n",
    "    for j in range(0,m_params):\n",
    "        for i in range(0,n):\n",
    "            a[k][j]=a[k][j]+math.pow(x[i],k+j)/math.pow(ey[i],2)\n",
    "        #print (\"a[%d][%d] = %f\" %(k,j,a[k][j]))\n",
    "        \n",
    "print (\"A matrix = \")        \n",
    "print (a)\n",
    "print(\"V matrix = \")\n",
    "print (v)\n",
    "\n",
    "ainv = np.linalg.inv(a)\n",
    "u1 = np.dot(a,ainv)\n",
    "\n",
    "print (\"A_inverse = \")\n",
    "print (ainv)\n",
    "print (\"Diagonal Check:\")\n",
    "print (u1)\n",
    "coeff = ainv*np.matrix(v)\n",
    "print (\"Coefficients:\")\n",
    "for k in range(0,m+1):\n",
    "    print(\"k = %d, coeff = %f +/- %f\" % (k,coeff[k],math.pow(ainv[k][k],0.5)))"
   ]
  },
  {
   "cell_type": "code",
   "execution_count": 10,
   "metadata": {},
   "outputs": [
    {
     "name": "stdout",
     "output_type": "stream",
     "text": [
      "i = 0  y = -0.200000  yfit = 1.724963\n",
      "i = 1  y = 6.114286  yfit = 4.017990\n",
      "i = 2  y = 5.428571  yfit = 6.311018\n",
      "i = 3  y = 9.742857  yfit = 8.604045\n",
      "i = 4  y = 11.057143  yfit = 10.897072\n",
      "i = 5  y = 11.371429  yfit = 13.190099\n",
      "i = 6  y = 17.685714  yfit = 15.483127\n",
      "i = 7  y = 17.000000  yfit = 17.776154\n",
      "i = 8  y = 21.314286  yfit = 20.069181\n",
      "i = 9  y = 22.628571  yfit = 22.362208\n",
      "i = 10  y = 22.942857  yfit = 24.655235\n",
      "i = 11  y = 29.257143  yfit = 26.948263\n",
      "i = 12  y = 28.571429  yfit = 29.241290\n",
      "i = 13  y = 32.885714  yfit = 31.534317\n",
      "i = 14  y = 34.200000  yfit = 33.827344\n",
      "chi2/dof = 10.699207 / 13.000000\n",
      "[[ 1.         -0.98026063]\n",
      " [-0.98026063  1.        ]]\n"
     ]
    }
   ],
   "source": [
    "yfit = 0\n",
    "chi2 = 0\n",
    "\n",
    "for i in range(0,n):\n",
    "    for j in range(0,m+1):\n",
    "        yfit = yfit + coeff[j]*math.pow(x[i],j)\n",
    "    print (\"i = %d  y = %f  yfit = %f\" % (i,y[i],yfit))\n",
    "    chi2 = chi2 + math.pow(((yfit-y[i])/ey[i]),2)\n",
    "    yfit = 0\n",
    "    \n",
    "chi2perdof = chi2/(n-m)\n",
    "print (\"chi2/dof = %f / %f\" % (chi2,(n-m-1)))\n",
    "\n",
    "rho = np.zeros(shape = (m_params,m_params))\n",
    "\n",
    "for k in range(0,m_params):\n",
    "    for j in range(0,m_params):\n",
    "        rho[k][j]=rho[k][j]+ainv[k][j]/math.sqrt(ainv[k][k]*ainv[j][j])    \n",
    "print (rho)"
   ]
  },
  {
   "cell_type": "code",
   "execution_count": null,
   "metadata": {},
   "outputs": [],
   "source": []
  },
  {
   "cell_type": "code",
   "execution_count": 11,
   "metadata": {},
   "outputs": [
    {
     "name": "stdout",
     "output_type": "stream",
     "text": [
      "0 0.0 [[1.72496327]] 1.9085013094182517 3.633464581284581 -0.18353803755192244\n",
      "1 0.5714285714285714 [[4.01799048]] 1.6473632931080366 5.665353775858727 2.3706271896426534\n",
      "2 1.1428571428571428 [[6.31101769]] 1.3885573570312002 7.699575050666251 4.9224603366038515\n",
      "3 1.7142857142857142 [[8.6040449]] 1.133681785559039 9.737726690078452 7.470363118960373\n",
      "4 2.2857142857142856 [[10.89707212]] 0.8861345219030418 11.783206637306815 10.010937593500731\n",
      "5 2.857142857142857 [[13.19009933]] 0.6542870423334671 13.8443863686216 12.535812283954668\n",
      "6 3.4285714285714284 [[15.48312654]] 0.4623914137176024 15.945517950890098 15.020735123454893\n",
      "7 4.0 [[17.77615375]] 0.3773290978061344 18.153482845862992 17.39882465025072\n",
      "8 4.571428571428571 [[20.06918096]] 0.4623914137176024 20.531572372658818 19.606789545223616\n",
      "9 5.142857142857143 [[22.36220817]] 0.6542870423334667 23.016495212159047 21.70792112749211\n",
      "10 5.714285714285714 [[24.65523538]] 0.8861345219030422 25.54136990261298 23.769100858806897\n",
      "11 6.285714285714286 [[26.94826259]] 1.13368178555904 28.08194437715334 25.81458080603526\n",
      "12 6.857142857142857 [[29.2412898]] 1.3885573570312006 30.62984715950986 27.85273244544746\n",
      "13 7.428571428571429 [[31.53431701]] 1.647363293108038 33.18168030647106 29.886953720254983\n",
      "14 8.0 [[33.82734422]] 1.9085013094182521 35.73584553366564 31.91884291482913\n"
     ]
    }
   ],
   "source": [
    "xfiterr = array('d')\n",
    "yfiterr = array('d')\n",
    "yfitplus2 = array('d')\n",
    "yfitminus2 = array('d')\n",
    "\n",
    "for i in range(0,n):\n",
    "    xfiterr.append(xlow+(xhigh-xlow)*i/(n-1))\n",
    "    yerror2 = 0.0\n",
    "    yval = 0.0\n",
    "    for k in range(0,m+1):\n",
    "        for j in range(0,m+1):\n",
    "            term = rho[k][j]*math.pow(xfiterr[i],k)*math.pow(ainv[k][k],0.5)*(math.pow(xfiterr[i],j)*math.pow(ainv[j][j],0.5))\n",
    "            #print (k,j,term)\n",
    "            yerror2 = yerror2 + term\n",
    "        yval = yval + coeff[k]*math.pow(xfiterr[i],k)\n",
    "    yfiterr.append(yval)\n",
    "    yfitplus2.append(yval+math.sqrt(yerror2))\n",
    "    yfitminus2.append(yval-math.sqrt(yerror2))\n",
    "    print(i,xfiterr[i],yval,math.sqrt(yerror2),yfitplus2[i],yfitminus2[i])"
   ]
  },
  {
   "cell_type": "code",
   "execution_count": 12,
   "metadata": {
    "scrolled": false
   },
   "outputs": [
    {
     "name": "stdout",
     "output_type": "stream",
     "text": [
      "Welcome to JupyROOT 6.16/00\n",
      "Fit 1: 10.699207 13.000000 \n",
      "\n"
     ]
    },
    {
     "data": {
      "image/png": "[encoded data removed]",
      "text/plain": [
       "<IPython.core.display.Image object>"
      ]
     },
     "metadata": {},
     "output_type": "display_data"
    }
   ],
   "source": [
    "#print (n,x,y)\n",
    "\n",
    "from ROOT import TCanvas, TFile\n",
    "from ROOT import TGraph, TF1, TGraphErrors\n",
    "from ROOT import gStyle\n",
    "gStyle.SetOptFit(1)\n",
    "\n",
    "c1 = TCanvas( 'c1', 'Error Band Fitting Example', 200, 10, 1400, 1000 )\n",
    "c1.SetGridx()\n",
    "c1.SetGridy()\n",
    "c1.GetFrame().SetFillColor( 21 )\n",
    "c1.GetFrame().SetBorderMode(-1 )\n",
    "c1.GetFrame().SetBorderSize( 5 )\n",
    "\n",
    "gr = TGraphErrors(n,x,y,ex,ey)\n",
    "grp = TGraph(n,xfiterr,yfitplus2)\n",
    "grm = TGraph(n,xfiterr,yfitminus2)\n",
    "\n",
    "pfit1 = TF1(\"pfit1\",rootfitstring)\n",
    "\n",
    "gr.SetMarkerStyle(21)\n",
    "gr.SetTitle(Title)\n",
    "gr.GetXaxis().SetTitle(\"X\")\n",
    "gr.GetYaxis().SetTitle(\"Y\")\n",
    "gr.GetXaxis().SetLimits(xlow-1.0,xhigh+6.0) \n",
    "#gr.GetHistogram().SetMaximum(5.0)\n",
    "#gr.GetHistogram().SetMinimum(0.0)\n",
    "gr.Fit(\"pfit1\",\"q\")\n",
    "pfit1chi2 = pfit1.GetChisquare()\n",
    "pfit1ndf = pfit1.GetNDF()\n",
    "pfit1chi2ndf = pfit1chi2/pfit1ndf\n",
    "print(\"Fit 1: %f %f \\n\" % (pfit1chi2,pfit1ndf))\n",
    "gr.Draw(\"AP\")\n",
    "grp.SetLineColor(2)\n",
    "grm.SetLineColor(2)\n",
    "grp.Draw(\"L\")\n",
    "grm.Draw(\"L\")\n",
    "c1.Draw()"
   ]
  },
  {
   "cell_type": "code",
   "execution_count": 13,
   "metadata": {},
   "outputs": [
    {
     "name": "stdout",
     "output_type": "stream",
     "text": [
      "Coefficients (from curve_fit)\n",
      "[1.72496324 4.01279763]\n",
      "Covariance Matrix (from curve_fit)\n",
      "[[ 3.64237678 -0.87499986]\n",
      " [-0.87499986  0.21874996]]\n",
      "Chi^2 / dof = 1.070E+01 / 13\n",
      "Fit Parameter 0: 1.725E+00 +/- 1.909E+00\n",
      "0 1 -9.803E-01\n",
      "Fit Parameter 1: 4.013E+00 +/- 4.677E-01\n"
     ]
    },
    {
     "data": {
      "text/plain": [
       "<Figure size 1500x1200 with 1 Axes>"
      ]
     },
     "metadata": {},
     "output_type": "display_data"
    }
   ],
   "source": [
    "import matplotlib.pyplot as plt\n",
    "from scipy.optimize import curve_fit\n",
    "\n",
    "fig = plt.figure(figsize=(15,12))\n",
    "ax1 = fig.add_subplot(111)\n",
    "\n",
    "ax1.set_title(Title)\n",
    "ax1.set_xlabel('X')\n",
    "ax1.set_ylabel('Y')\n",
    "ax1.set_xlim(xlow-1,xhigh+6)\n",
    "ax1.set_yscale(\"linear\",nonposy='clip')\n",
    "ax1.grid(True)\n",
    "\n",
    "ax1.errorbar(x,y,yerr=sigma,fmt='o')\n",
    "\n",
    "init_vals = [0.0 for x in range(0,m_params)]\n",
    "popt, pcov = curve_fit(fitfunction,x,y,p0=init_vals,sigma=sigma,absolute_sigma=True)\n",
    "\n",
    "xi = np.linspace(np.min(x),np.max(x),100)\n",
    "ps = np.random.multivariate_normal(popt,pcov,10000)\n",
    "ysample=np.asarray([fitfunction(xi,*pi) for pi in ps])\n",
    "lower = np.percentile(ysample,16.0,axis=0)\n",
    "upper = np.percentile(ysample,84.0,axis=0)\n",
    "\n",
    "print(\"Coefficients (from curve_fit)\")\n",
    "print (popt)\n",
    "print(\"Covariance Matrix (from curve_fit)\")\n",
    "print (pcov)\n",
    "\n",
    "npoints = n\n",
    "\n",
    "yfit = []\n",
    "chi2=0\n",
    "for i in range (0,npoints):\n",
    "    yfit.append(fitfunction(x[i],*popt))\n",
    "    #chi2 += (y[i]-yfit[i])*(y[i]-yfit[i])\n",
    "    chi2 += (y[i]-yfit[i])*(y[i]-yfit[i])/(sigma[i]*sigma[i])\n",
    "\n",
    "print (\"Chi^2 / dof = %.3E / %d\" % (chi2,npoints-len(init_vals)))\n",
    "\n",
    "param = []\n",
    "rhom = []\n",
    "param.append(float(chi2))\n",
    "param.append(npoints-len(init_vals))\n",
    "for ii in range(0,len(init_vals)):\n",
    "    param.append(float(popt[ii]))\n",
    "    param.append(float(np.sqrt(pcov[ii][ii])))\n",
    "    print(\"Fit Parameter %d: %.3E +/- %.3E\" % (ii,popt[ii],np.sqrt(pcov[ii][ii])))\n",
    "    for jj in range(0,len(init_vals)):\n",
    "        rhom.append(float(pcov[ii][jj])/pow(float(pcov[ii][ii]*pcov[jj][jj]),0.5))\n",
    "        if jj > ii:\n",
    "            print(\"%d %d %.3E\" % (ii,jj,rhom[ii*len(init_vals)+jj]))\n",
    "\n",
    "mylabel = \"Chi^2/dof = %.3E / %d\\n\"\n",
    "for i in range(0,len(init_vals)):\n",
    "    code = \"p\" + str(i)\n",
    "    mylabel = mylabel + code + \" = %.3E +/- %.3E\\n\"\n",
    "\n",
    "ax1.plot(xi, fitfunction(xi, *popt), 'r-', label = mylabel % tuple(param))\n",
    "ax1.plot(xi,lower,'r--')\n",
    "ax1.plot(xi,upper,'r--')\n",
    "\n",
    "leg = ax1.legend()\n",
    "plt.show()"
   ]
  },
  {
   "cell_type": "code",
   "execution_count": 16,
   "metadata": {},
   "outputs": [
    {
     "name": "stdout",
     "output_type": "stream",
     "text": [
      "P201 Error Calculation = 1.724963 +/- 1.908501 \n",
      "Proper Error Calculation = 1.724963 +/- 1.908501 \n"
     ]
    }
   ],
   "source": [
    "index=0\n",
    "yfitvalue = 0.0\n",
    "yerrorvalue = 0.0\n",
    "for k in range(0,m_params):\n",
    "    yfitvalue = yfitvalue + coeff[k]*math.pow(x[index],k)\n",
    "    yerrorvalue = yerrorvalue + math.pow(math.pow(x[index],k)*math.pow(ainv[k][k],0.5),2)\n",
    "yerrorvalue = math.sqrt(yerrorvalue)\n",
    "print (\"P201 Error Calculation = %f +/- %f \" % (yfitvalue,yerrorvalue))\n",
    "print (\"Proper Error Calculation = %f +/- %f \" % ((yfitplus2[index]+yfitminus2[index])/2.0,(yfitplus2[index]-yfitminus2[index])/2.0))\n"
   ]
  },
  {
   "cell_type": "code",
   "execution_count": null,
   "metadata": {},
   "outputs": [],
   "source": []
  },
  {
   "cell_type": "code",
   "execution_count": null,
   "metadata": {},
   "outputs": [],
   "source": []
  },
  {
   "cell_type": "code",
   "execution_count": null,
   "metadata": {},
   "outputs": [],
   "source": []
  },
  {
   "cell_type": "code",
   "execution_count": null,
   "metadata": {},
   "outputs": [],
   "source": []
  }
 ],
 "metadata": {
  "kernelspec": {
   "display_name": "Python 3",
   "language": "python",
   "name": "python3"
  },
  "language_info": {
   "codemirror_mode": {
    "name": "ipython",
    "version": 3
   },
   "file_extension": ".py",
   "mimetype": "text/x-python",
   "name": "python",
   "nbconvert_exporter": "python",
   "pygments_lexer": "ipython3",
   "version": "3.6.8"
  }
 },
 "nbformat": 4,
 "nbformat_minor": 2
}
