{
 "cells": [
  {
   "cell_type": "code",
   "execution_count": 1,
   "metadata": {},
   "outputs": [
    {
     "name": "stdout",
     "output_type": "stream",
     "text": [
      "Welcome to JupyROOT 6.18/00\n"
     ]
    }
   ],
   "source": [
    "from ROOT import TCanvas, TFile\n",
    "from ROOT import TGraph, TGraphPolar\n",
    "from ROOT import gStyle\n",
    "from array import array\n",
    "import math\n",
    "\n",
    "c1 = TCanvas( 'c1', 'The Main Canvas', 200, 10, 1000, 800 )\n",
    "c1.SetGridx()\n",
    "c1.SetGridy()\n",
    "c1.GetFrame().SetFillColor( 21 )\n",
    "c1.GetFrame().SetBorderMode(-1 )\n",
    "c1.GetFrame().SetBorderSize( 5 )\n",
    "c1.Divide(1,1)"
   ]
  },
  {
   "cell_type": "code",
   "execution_count": 2,
   "metadata": {},
   "outputs": [],
   "source": [
    "def fderiv(y,t,param,deriv):\n",
    "    a = param[0]\n",
    "    deriv[0] = a*math.pow(math.sin(t),2)*y[0]"
   ]
  },
  {
   "cell_type": "code",
   "execution_count": 3,
   "metadata": {},
   "outputs": [],
   "source": [
    "def yexact(t,param):\n",
    "    return 2*param[0]*math.exp(0.5*(t - math.sin(t)*math.cos(t)))"
   ]
  },
  {
   "cell_type": "code",
   "execution_count": 4,
   "metadata": {},
   "outputs": [],
   "source": [
    "def rk2(y,nY,t,tau,deriv,param):\n",
    "    F1 = array('d')\n",
    "    F2 = array('d')\n",
    "    ytemp = array('d')\n",
    "    \n",
    "    for i in range(0,nY):\n",
    "        F1.append(0.0)\n",
    "        F2.append(0.0)\n",
    "        ytemp.append(0.0)\n",
    "    \n",
    "    fderiv(y,t,param,F1)\n",
    "    \n",
    "    half_tau = 0.5*tau\n",
    "    t_half = t + half_tau\n",
    "    \n",
    "    for i in range(0,nY):\n",
    "        ytemp[i]=y[i]+half_tau*F1[i]\n",
    "        \n",
    "    fderiv(ytemp,t_half,param,F2)\n",
    "        \n",
    "    for i in range(0,nY):\n",
    "        y[i] = y[i] + tau*F2[i]"
   ]
  },
  {
   "cell_type": "code",
   "execution_count": 5,
   "metadata": {},
   "outputs": [],
   "source": [
    "def rk4(y,nY,t,tau,deriv,param):\n",
    "    F1 = array('d')\n",
    "    F2 = array('d')\n",
    "    F3 = array('d')\n",
    "    F4 = array('d')\n",
    "    ytemp = array('d')\n",
    "    \n",
    "    for i in range(0,nY):\n",
    "        F1.append(0.0)\n",
    "        F2.append(0.0)\n",
    "        F3.append(0.0)\n",
    "        F4.append(0.0)\n",
    "        ytemp.append(0.0)\n",
    "        \n",
    "    fderiv(y,t,param,F1)\n",
    "    \n",
    "    half_tau = 0.5*tau\n",
    "    t_half = t + half_tau\n",
    "    \n",
    "    for i in range(0,nY):\n",
    "        ytemp[i] = y[i] + half_tau*F1[i]\n",
    "        \n",
    "    fderiv(ytemp,t_half,param,F2)\n",
    "    \n",
    "    for i in range(0,nY):\n",
    "        ytemp[i] = y[i] + half_tau*F2[i]\n",
    "        \n",
    "    fderiv(ytemp,t_half,param,F3)\n",
    "    \n",
    "    t_full = t + tau\n",
    "\n",
    "    for i in range(0,nY):\n",
    "        ytemp[i] = y[i] + tau*F3[i]\n",
    "        \n",
    "    fderiv(ytemp,t_full,param,F4)\n",
    "    \n",
    "    for i in range(0,nY):\n",
    "        y[i] = y[i] + tau/6.0*(F1[i]+F4[i]+2.0*(F2[i]+F3[i]))"
   ]
  },
  {
   "cell_type": "code",
   "execution_count": 6,
   "metadata": {},
   "outputs": [],
   "source": [
    "def rka(x,nX,t,tau,err,deriv,param):\n",
    "    tSave = t\n",
    "    safe1 = 0.9\n",
    "    safe2 = 0.2\n",
    "    \n",
    "    xSmall = array('d')\n",
    "    xBig = array('d')\n",
    "    for i in range(0,nX):\n",
    "        xSmall.append(0.0)\n",
    "        xBig.append(0.0)\n",
    "        \n",
    "    maxTry = 100\n",
    "    for iTry in range(0,maxTry):\n",
    "        half_tau = 0.5*tau\n",
    "        for i in range(0,nX):\n",
    "            xSmall[i]=x[i]\n",
    "        rk4(xSmall,nX,tSave,half_tau,deriv,param)\n",
    "        t = tSave + half_tau\n",
    "        rk4(xSmall,nX,t,half_tau,deriv,param)\n",
    "        \n",
    "        t = tSave + tau\n",
    "        for i in range(0,nX):\n",
    "            xBig[i] = x[i]\n",
    "        rk4(xBig,nX,tSave,tau,deriv,param)\n",
    "        \n",
    "        errorRatio = 0.0\n",
    "        eps = 1.0E-16\n",
    "        for i in range(0,nX):\n",
    "            scale = err * (math.fabs(xSmall[i]) + math.fabs(xBig[i]))/2.0\n",
    "            xDiff = xSmall[i]-xBig[i]\n",
    "            ratio = math.fabs(xDiff)/(scale+eps)\n",
    "            if (errorRatio <= ratio):\n",
    "                errorRatio = ratio\n",
    "                \n",
    "        tau_old = tau\n",
    "        tau = safe1*tau_old*math.pow(errorRatio,-0.20)\n",
    "        if (tau <= tau_old/safe2):\n",
    "            tau = tau_old/safe2\n",
    "        if (tau >= safe2/tau_old):\n",
    "            tau = safe2/tau_old\n",
    "            \n",
    "        if (errorRatio < 1):\n",
    "            for i in range(0,nX):\n",
    "                x[i] = xSmall[i]\n",
    "            return\n",
    "        \n",
    "    print(\"Error:  Adaptive Runge-Kutta Routine failed\")"
   ]
  },
  {
   "cell_type": "code",
   "execution_count": 7,
   "metadata": {},
   "outputs": [],
   "source": [
    "# Wikipedia page y' = (sin(t))^2*y\n",
    "\n",
    "nStep = 11\n",
    "tau = 0.5\n",
    "\n",
    "\n",
    "# Everything below this point is calculated.\n",
    "y0 = 2.0\n",
    "yp0 = 0.0\n",
    "\n",
    "param = array('d')\n",
    "param.append(1.0)\n",
    "adaptErr = 0.001\n",
    "time = 0.0\n",
    "\n",
    "tlow = 0\n",
    "thigh = tlow + (nStep-1)*tau\n",
    "#print(tlow,thigh)\n",
    "yy = array('d')\n",
    "tt = array('d')\n",
    "nexact = 1000\n",
    "dt = (thigh-tlow)/nexact\n",
    "for i in range(0,nexact+1):\n",
    "    texact = tlow + i*dt\n",
    "    yy.append(yexact(texact,param))\n",
    "    tt.append(texact)\n",
    "#print(yy,tt)"
   ]
  },
  {
   "cell_type": "code",
   "execution_count": 8,
   "metadata": {},
   "outputs": [],
   "source": [
    "y = array('d')\n",
    "state = array('d')\n",
    "deriv = array('d')\n",
    "\n",
    "nState = 1\n",
    "\n",
    "y.append(y0)\n",
    "\n",
    "state.append(y[0])\n",
    "\n",
    "for i in range(0,nState):\n",
    "    deriv.append(yp0)"
   ]
  },
  {
   "cell_type": "code",
   "execution_count": 9,
   "metadata": {},
   "outputs": [],
   "source": [
    "yplot = array('d')\n",
    "tplot = array('d')"
   ]
  },
  {
   "cell_type": "code",
   "execution_count": 10,
   "metadata": {},
   "outputs": [
    {
     "name": "stdout",
     "output_type": "stream",
     "text": [
      "array('d', [2.0, 2.0612087190548136, 2.567575710539209, 3.9283774181478353, 6.3032273809345, 8.605597623180659, 9.288487470930521, 9.343124531900655, 10.916188170465972, 15.914164893668616, 25.75818658739655]) array('d', [0.0, 0.5, 1.0, 1.5, 2.0, 2.5, 3.0, 3.5, 4.0, 4.5, 5.0])\n"
     ]
    }
   ],
   "source": [
    "for iStep in range(0,nStep):\n",
    "    yplot.append(y[0])\n",
    "    tplot.append(time)\n",
    "    \n",
    "    if (method == 1):\n",
    "        fderiv(state,time,param,deriv)\n",
    "        y[0] = y[0] + tau*deriv[0]\n",
    "        time = time + tau\n",
    "    else:\n",
    "        if (method == 2):\n",
    "            fderiv(state,time,param,deriv)\n",
    "            y[0] = y[0] + tau/2.0*deriv[0]\n",
    "            time = time + tau/2.0\n",
    "            yplot.append(y[0])\n",
    "            tplot.append(time)\n",
    "            fderiv(state,time,param,deriv)\n",
    "            y[0] = y[0] + tau/2.0*deriv[0]\n",
    "            time = time + tau/2.0\n",
    "        else:\n",
    "            if (method == 3):\n",
    "                rk4(state,nState,time,tau,deriv,param)\n",
    "                y[0]=state[0]\n",
    "                time = time + tau\n",
    "            else:\n",
    "                if (method == 4):\n",
    "                    rka(state,nState,time,tau,adaptErr,deriv,param)\n",
    "                    y[0]=state[0]\n",
    "                    time = time + tau\n",
    "                else:\n",
    "                    if (method == 5):\n",
    "                        rk2(state,nState,time,tau,deriv,param)\n",
    "                        y[0]=state[0]\n",
    "                        time = time + tau    \n",
    "print (yplot,tplot)"
   ]
  },
  {
   "cell_type": "code",
   "execution_count": 11,
   "metadata": {},
   "outputs": [
    {
     "data": {
      "image/png": "[encoded data removed]",
      "text/plain": [
       "<IPython.core.display.Image object>"
      ]
     },
     "metadata": {},
     "output_type": "display_data"
    }
   ],
   "source": [
    "gStyle.SetOptFit(1)\n",
    "c1.Draw()\n",
    "\n",
    "if (method==2):\n",
    "    grr = TGraph(2*nStep-1,tplot,yplot)\n",
    "else:\n",
    "    grr = TGraph(nStep,tplot,yplot)\n",
    "grr.SetMarkerColor(2)\n",
    "grexact = TGraph(nexact+1,tt,yy)\n",
    "grexact.SetLineColor(4)\n",
    "\n",
    "c1.cd()\n",
    "grr.GetHistogram().SetMaximum(30.0)\n",
    "grr.GetHistogram().SetMinimum(0.0)\n",
    "grr.SetMarkerStyle(22)\n",
    "grr.SetTitle(\"Wikipedia\")\n",
    "grr.GetXaxis().SetTitle(\"Time\")\n",
    "grr.GetYaxis().SetTitle(\"Y\")\n",
    "grr.Draw(\"APL\")\n",
    "grexact.Draw(\"L\")\n",
    "c1.Draw()"
   ]
  },
  {
   "cell_type": "code",
   "execution_count": null,
   "metadata": {},
   "outputs": [],
   "source": []
  },
  {
   "cell_type": "code",
   "execution_count": null,
   "metadata": {},
   "outputs": [],
   "source": []
  }
 ],
 "metadata": {
  "kernelspec": {
   "display_name": "Python 3",
   "language": "python",
   "name": "python3"
  },
  "language_info": {
   "codemirror_mode": {
    "name": "ipython",
    "version": 3
   },
   "file_extension": ".py",
   "mimetype": "text/x-python",
   "name": "python",
   "nbconvert_exporter": "python",
   "pygments_lexer": "ipython3",
   "version": "3.7.3"
  }
 },
 "nbformat": 4,
 "nbformat_minor": 2
}
