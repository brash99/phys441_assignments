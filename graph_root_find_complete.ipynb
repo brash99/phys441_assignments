{
 "cells": [
  {
   "cell_type": "code",
   "execution_count": 1,
   "metadata": {},
   "outputs": [],
   "source": [
    "from array import array\n",
    "import math"
   ]
  },
  {
   "cell_type": "code",
   "execution_count": 2,
   "metadata": {},
   "outputs": [],
   "source": [
    "def generator_function(x,par):\n",
    "    return par[0]+par[1]*x+par[2]*x*x+par[3]*x*x*x\n",
    "\n",
    "xlow = -4.0\n",
    "xhigh = 4.0\n",
    "npoints = 10007\n",
    "\n",
    "xval = array('d')\n",
    "yval = array('d')\n",
    "xstep = array('d')\n",
    "ystep = array('d')\n",
    "\n",
    "par = array('d')\n",
    "par.append(1.80)\n",
    "par.append(-4.05)\n",
    "par.append(0.30)\n",
    "par.append(1.00)\n",
    "\n",
    "dx = (xhigh-xlow)/npoints"
   ]
  },
  {
   "cell_type": "code",
   "execution_count": 3,
   "metadata": {},
   "outputs": [],
   "source": [
    "for i in range(0,npoints):\n",
    "    xval.append(xlow+i*dx)\n",
    "    yval.append(generator_function(xval[i],par))"
   ]
  },
  {
   "cell_type": "code",
   "execution_count": 4,
   "metadata": {},
   "outputs": [
    {
     "name": "stdout",
     "output_type": "stream",
     "text": [
      "Found root at x = -2.349674\n",
      "\n",
      "Found root at x = 0.491708\n",
      "\n",
      "Found root at x = 1.557966\n",
      "\n",
      "Total number of roots found = 3\n",
      "\n"
     ]
    }
   ],
   "source": [
    "for nsearch in range(1,npoints):\n",
    "\n",
    "    niter = npoints/nsearch\n",
    "    ycomp = yval[0]\n",
    "    nroots_found = 0\n",
    "    nsteps = 0\n",
    "\n",
    "    for i in range(0,int(niter)):\n",
    "        y = yval[nsearch*i]\n",
    "        if (y==0):\n",
    "            if (nsearch == 1):\n",
    "                print (\"Found exact root at x = %f\\n\" % xval[nsearch*i])\n",
    "            nroots_found = nroots_found + 1\n",
    "            nsteps = nsteps + 1\n",
    "        nsteps = nsteps + 1\n",
    "        if (y*ycomp<0.0):\n",
    "            xlow = xval[nsearch*(i-1)]\n",
    "            xhigh = xval[nsearch*i]\n",
    "            nsteps = nsteps + 2\n",
    "            epsilon = 1.0E-10\n",
    "            diff = 1.0E12\n",
    "            while (diff>epsilon):\n",
    "                fa = generator_function(xlow,par)\n",
    "                fb = generator_function(xhigh,par)\n",
    "                xmid = (xhigh+xlow)/2.0\n",
    "                fc = generator_function(xmid,par)\n",
    "                nsteps = nsteps + 4\n",
    "                product = fa*fc\n",
    "                if (product < 0):\n",
    "                    xhigh = xmid\n",
    "                    fb = fc\n",
    "                else:\n",
    "                    xlow = xmid\n",
    "                    fa = fc\n",
    "\n",
    "                diff = math.fabs(fc)\n",
    "                nsteps = nsteps + 1\n",
    "\n",
    "            if (nsearch == 1):\n",
    "                print (\"Found root at x = %f\\n\" % xmid)\n",
    "            nroots_found = nroots_found + 1\n",
    "            ycomp = y\n",
    "            nsteps = nsteps + 1\n",
    "        else:\n",
    "            ycomp = y\n",
    "            nsteps = nsteps + 1\n",
    "\n",
    "    if (nsearch == 1):\n",
    "        print (\"Total number of roots found = %d\\n\" % nroots_found)\n",
    "    \n",
    "    xstep.append(nsearch)\n",
    "    if (nroots_found == 3):\n",
    "        ystep.append(nsteps)\n",
    "    else:\n",
    "        ystep.append(50000)\n",
    "    "
   ]
  },
  {
   "cell_type": "code",
   "execution_count": 9,
   "metadata": {},
   "outputs": [
    {
     "name": "stderr",
     "output_type": "stream",
     "text": [
      "Warning in <TCanvas::Constructor>: Deleting canvas with same name: c1\n"
     ]
    },
    {
     "data": {
      "image/png": "[encoded data removed]",
      "text/plain": [
       "<IPython.core.display.Image object>"
      ]
     },
     "metadata": {},
     "output_type": "display_data"
    }
   ],
   "source": [
    "from ROOT import TCanvas\n",
    "from ROOT import TGraph\n",
    "\n",
    "c1 = TCanvas( 'c1', 'The Main Canvas', 200, 10, 700, 500 )\n",
    "c1.SetGridx()\n",
    "c1.SetGridy()\n",
    "c1.GetFrame().SetFillColor( 21 )\n",
    "c1.GetFrame().SetBorderMode(-1 )\n",
    "c1.GetFrame().SetBorderSize( 5 )\n",
    "c1.SetLogy()\n",
    "c1.SetLogx()\n",
    "\n",
    "gr = TGraph(npoints,xstep,ystep)\n",
    "\n",
    "gr.SetMarkerStyle(21)\n",
    "gr.SetMaximum(50000.0)\n",
    "gr.SetMinimum(400.0)\n",
    "gr.GetXaxis().SetLimits(1,1200.0)\n",
    "gr.SetTitle(\"Bisection Method Search Size Dependence\")\n",
    "gr.GetXaxis().SetTitle(\"Division Size\")\n",
    "gr.GetYaxis().SetTitle(\"Nsteps\")\n",
    "gr.Draw(\"AP\")\n",
    "\n",
    "c1.Draw()\n"
   ]
  },
  {
   "cell_type": "code",
   "execution_count": null,
   "metadata": {},
   "outputs": [],
   "source": []
  },
  {
   "cell_type": "code",
   "execution_count": null,
   "metadata": {},
   "outputs": [],
   "source": []
  },
  {
   "cell_type": "code",
   "execution_count": null,
   "metadata": {},
   "outputs": [],
   "source": []
  },
  {
   "cell_type": "code",
   "execution_count": null,
   "metadata": {},
   "outputs": [],
   "source": []
  },
  {
   "cell_type": "code",
   "execution_count": null,
   "metadata": {},
   "outputs": [],
   "source": []
  }
 ],
 "metadata": {
  "kernelspec": {
   "display_name": "Python 3",
   "language": "python",
   "name": "python3"
  },
  "language_info": {
   "codemirror_mode": {
    "name": "ipython",
    "version": 3
   },
   "file_extension": ".py",
   "mimetype": "text/x-python",
   "name": "python",
   "nbconvert_exporter": "python",
   "pygments_lexer": "ipython3",
   "version": "3.6.8"
  }
 },
 "nbformat": 4,
 "nbformat_minor": 2
}
