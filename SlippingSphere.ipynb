{
 "cells": [
  {
   "cell_type": "code",
   "execution_count": 1,
   "metadata": {},
   "outputs": [],
   "source": [
    "import numpy as np\n",
    "import matplotlib.pyplot as plt\n",
    "\n",
    "muks = 0.7\n",
    "g = 9.8\n",
    "R = 0.05\n",
    "omega = 10.0\n",
    "mukp = 0.05\n",
    "ms = 0.5\n",
    "mp = 5.0\n",
    "\n",
    "vsphere = []\n",
    "vplatform = []\n",
    "time = []"
   ]
  },
  {
   "cell_type": "code",
   "execution_count": 2,
   "metadata": {},
   "outputs": [
    {
     "name": "stdout",
     "output_type": "stream",
     "text": [
      "alpha, t, vf =  -343.0 0.02082465639316951 0.14285714285714285\n"
     ]
    }
   ],
   "source": [
    "# Phase I\n",
    "\n",
    "alpha = -5/2*muks*g/R\n",
    "t = 2/7*omega*R/(muks*g)\n",
    "vf = 2/7*omega*R\n",
    "\n",
    "print (\"alpha, t, vf = \",alpha,t,vf)"
   ]
  },
  {
   "cell_type": "code",
   "execution_count": 3,
   "metadata": {},
   "outputs": [
    {
     "name": "stdout",
     "output_type": "stream",
     "text": [
      "ap =  -0.14699999999999988 -0.0030612244897959156\n"
     ]
    }
   ],
   "source": [
    "ap = -(muks*ms/mp - mukp*(mp+ms)/mp)*g\n",
    "vfp = ap*t\n",
    "vfp1 = vfp\n",
    "\n",
    "print (\"ap = \",ap,vfp)"
   ]
  },
  {
   "cell_type": "code",
   "execution_count": 4,
   "metadata": {},
   "outputs": [
    {
     "name": "stdout",
     "output_type": "stream",
     "text": [
      "ap =  0.5390000000000001 0.005679451743591679 0.02650410813676119\n"
     ]
    }
   ],
   "source": [
    "# Phase II\n",
    "\n",
    "ap = mukp*(mp+ms)/mp*g\n",
    "vip = vfp\n",
    "vfp = 0.0\n",
    "t_extra = (vfp-vip)/ap\n",
    "t_total = t + t_extra\n",
    "\n",
    "print (\"ap = \",ap,t_extra,t_total)"
   ]
  },
  {
   "cell_type": "code",
   "execution_count": 5,
   "metadata": {},
   "outputs": [],
   "source": [
    "# Phase 1\n",
    "for i in range(100):\n",
    "    time.append((i+1)*t/100)\n",
    "    vsphere.append(muks*g*time[i] - (muks*ms/mp-mukp*(mp+ms)/mp)*g*time[i])\n",
    "    vplatform.append(-(muks*ms/mp-mukp*(mp+ms)/mp)*g*time[i])\n",
    "    #print(time[i],vsphere[i],vplatform[i])"
   ]
  },
  {
   "cell_type": "code",
   "execution_count": 6,
   "metadata": {},
   "outputs": [],
   "source": [
    "# phase II\n",
    "ap2 = mukp*(ms+mp)/mp*g\n",
    "for i in range(100):\n",
    "    time.append(t+(i+1)*t_extra/100)\n",
    "    tex=(time[i+100]-t)\n",
    "    vsphere.append(2/7*omega*R + (vfp1 + ap2*tex))\n",
    "    vplatform.append(vfp1 + ap2*tex)\n",
    "    #print(time[i+100],tex,vsphere[i+100],vplatform[i+100])"
   ]
  },
  {
   "cell_type": "code",
   "execution_count": 7,
   "metadata": {},
   "outputs": [],
   "source": [
    "# Phase III\n",
    "for i in range(100):\n",
    "    time.append(time[199]+i*.0001)\n",
    "    vplatform.append(0.0)\n",
    "    vsphere.append(2/7*omega*R)"
   ]
  },
  {
   "cell_type": "code",
   "execution_count": 8,
   "metadata": {},
   "outputs": [
    {
     "data": {
      "image/png": "[encoded data removed]",
      "text/plain": [
       "<Figure size 432x288 with 1 Axes>"
      ]
     },
     "metadata": {
      "needs_background": "light"
     },
     "output_type": "display_data"
    }
   ],
   "source": [
    "fig = plt.figure()\n",
    "plt.plot(time,vsphere,'-',time,vplatform,'--')\n",
    "plt.legend(['Sphere ','Platform '])\n",
    "plt.xlabel('Time')\n",
    "plt.ylabel('Velocity')\n",
    "plt.show()"
   ]
  },
  {
   "cell_type": "code",
   "execution_count": null,
   "metadata": {},
   "outputs": [],
   "source": []
  }
 ],
 "metadata": {
  "kernelspec": {
   "display_name": "Python 3",
   "language": "python",
   "name": "python3"
  },
  "language_info": {
   "codemirror_mode": {
    "name": "ipython",
    "version": 3
   },
   "file_extension": ".py",
   "mimetype": "text/x-python",
   "name": "python",
   "nbconvert_exporter": "python",
   "pygments_lexer": "ipython3",
   "version": "3.6.8"
  }
 },
 "nbformat": 4,
 "nbformat_minor": 2
}
