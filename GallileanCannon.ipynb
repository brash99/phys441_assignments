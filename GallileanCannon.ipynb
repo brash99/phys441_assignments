{
 "cells": [
  {
   "cell_type": "code",
   "execution_count": 1,
   "metadata": {},
   "outputs": [],
   "source": [
    "from math import *\n",
    "\n",
    "c = 0.25\n",
    "gamma = 0.64338\n",
    "h = 1.0\n",
    "g = 9.807\n",
    "\n",
    "N = 10"
   ]
  },
  {
   "cell_type": "code",
   "execution_count": 2,
   "metadata": {},
   "outputs": [
    {
     "name": "stdout",
     "output_type": "stream",
     "text": [
      "v =  4.428769580820388\n",
      " \n",
      "i, v2m, v1m =  1 -2.057911766872816 3.8360551273334953\n",
      "i, v2p, v1p =  1 7.372435263857282 1.4784683696509706\n",
      "i, ratio =  1 1.6646689626358044\n",
      " \n",
      "i, v2m, v1m =  2 0.37436554848251974 6.171651481531556\n",
      "i, v2p, v1p =  2 9.650023041360978 3.852737108311941\n",
      "i, ratio =  2 1.3089328961177007\n",
      " \n",
      "i, v2m, v1m =  3 2.9626076597360766 7.802178731221862\n",
      "i, v2p, v1p =  3 10.705921374113334 5.866350302627548\n",
      "i, ratio =  3 1.1094192550864044\n",
      " \n",
      "i, v2m, v1m =  4 4.484757580632548 8.4775395837501\n",
      "i, v2p, v1p =  4 10.873208785620632 6.880426782503079\n",
      "i, ratio =  4 1.0156256902756444\n",
      " \n",
      "i, v2m, v1m =  5 4.756317125788846 8.576937108968323\n",
      "i, v2p, v1p =  5 10.86930909887601 7.048689115696533\n",
      "i, ratio =  5 0.9996413490422645\n",
      " \n",
      "i, v2m, v1m =  6 4.749863961094147 8.574650713397377\n",
      "i, v2p, v1p =  6 10.869522764779315 7.044736012476085\n",
      "i, ratio =  6 1.0000196577262972\n",
      " \n",
      "i, v2m, v1m =  7 4.750217374863498 8.574776025858345\n",
      "i, v2p, v1p =  7 10.869511216455253 7.044952565460406\n",
      "i, ratio =  7 0.9999989375500368\n",
      " \n",
      "i, v2m, v1m =  8 4.750198272905885 8.574769253023685\n",
      "i, v2p, v1p =  8 10.869511841094365 7.044940860976565\n",
      "i, ratio =  8 1.0000000574670838\n",
      " \n",
      "i, v2m, v1m =  9 4.7501993061132906 8.574769619360946\n",
      "i, v2p, v1p =  9 10.86951180730954 7.0449414940618835\n",
      "i, ratio =  9 0.9999999968917808\n"
     ]
    }
   ],
   "source": [
    "v = sqrt(2*g*h)\n",
    "print (\"v = \",v)\n",
    "vi = v\n",
    "\n",
    "for i in range(1,N):\n",
    "\n",
    "    a = c*(c+1)\n",
    "    b = -2.0*c*(vi-c*v)\n",
    "    cc = (vi-c*v)**2 - gamma*(c*v**2+vi**2)\n",
    "\n",
    "    print(\" \")\n",
    "    #print (\"abc = \",a,b,cc)\n",
    "\n",
    "    v2m = (-b-sqrt(b**2-4*a*cc))/(2.0*a)\n",
    "    v1m = vi-c*v-c*v2m\n",
    "\n",
    "    print (\"i, v2m, v1m = \",i,v2m,v1m)\n",
    "\n",
    "    v2p = (-b+sqrt(b**2-4*a*cc))/(2.0*a)\n",
    "    v1p = vi-c*v-c*v2p\n",
    "\n",
    "    print (\"i, v2p, v1p = \",i,v2p,v1p)\n",
    "\n",
    "    print (\"i, ratio = \",i,v2p/vi)\n",
    "    \n",
    "    vi = v2p\n",
    "    "
   ]
  },
  {
   "cell_type": "code",
   "execution_count": 3,
   "metadata": {},
   "outputs": [
    {
     "name": "stdout",
     "output_type": "stream",
     "text": [
      "hd =  6.023569232652263\n"
     ]
    }
   ],
   "source": [
    "hd = v2p**2/(2.0*g)\n",
    "print (\"hd = \",hd)"
   ]
  },
  {
   "cell_type": "code",
   "execution_count": 4,
   "metadata": {},
   "outputs": [
    {
     "name": "stdout",
     "output_type": "stream",
     "text": [
      "0.8857539161640776 9.743293077804854 18.24653067298 31.85171082526023\n"
     ]
    }
   ],
   "source": [
    "v2_ball1 = v*(1-3*c)/(1+c)\n",
    "v2_ball2 = v*(3-c)/(1+c)\n",
    "v2_ball3 = v*(7-2*c-c**2)/(1+c)**2\n",
    "v2_ball4 = v*(15-3*c-3*c**2-c**3)/(1+c)**3\n",
    "\n",
    "print (v2_ball1,v2_ball2,v2_ball3,v2_ball4)"
   ]
  },
  {
   "cell_type": "code",
   "execution_count": 5,
   "metadata": {},
   "outputs": [
    {
     "name": "stdout",
     "output_type": "stream",
     "text": [
      "gamma_critical =  0.6433823529411765\n"
     ]
    }
   ],
   "source": [
    "gamma_critical = (7*c**3-2*c**2-5*c+4)/(4*(c**2+1))\n",
    "\n",
    "print(\"gamma_critical = \",gamma_critical)"
   ]
  },
  {
   "cell_type": "code",
   "execution_count": 6,
   "metadata": {},
   "outputs": [
    {
     "name": "stdout",
     "output_type": "stream",
     "text": [
      "3.656834520243816 1.2258749999999998\n"
     ]
    }
   ],
   "source": [
    "stuff = b**2-4*a*cc\n",
    "blah = 16*c**4*v**2\n",
    "print (stuff,blah)"
   ]
  },
  {
   "cell_type": "code",
   "execution_count": 7,
   "metadata": {},
   "outputs": [
    {
     "name": "stdout",
     "output_type": "stream",
     "text": [
      "0.0625\n"
     ]
    }
   ],
   "source": [
    "print (4*c**3)"
   ]
  },
  {
   "cell_type": "code",
   "execution_count": 8,
   "metadata": {},
   "outputs": [
    {
     "name": "stdout",
     "output_type": "stream",
     "text": [
      "-0.24172499999999997\n"
     ]
    }
   ],
   "source": [
    "stuff2 = (1-c)**2-gamma*(c+1)\n",
    "print (stuff2)"
   ]
  },
  {
   "cell_type": "code",
   "execution_count": null,
   "metadata": {},
   "outputs": [],
   "source": []
  }
 ],
 "metadata": {
  "kernelspec": {
   "display_name": "Python 3",
   "language": "python",
   "name": "python3"
  },
  "language_info": {
   "codemirror_mode": {
    "name": "ipython",
    "version": 3
   },
   "file_extension": ".py",
   "mimetype": "text/x-python",
   "name": "python",
   "nbconvert_exporter": "python",
   "pygments_lexer": "ipython3",
   "version": "3.6.8"
  }
 },
 "nbformat": 4,
 "nbformat_minor": 2
}
