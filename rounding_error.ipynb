{
 "cells": [
  {
   "cell_type": "markdown",
   "metadata": {},
   "source": [
    " Set up arrays to hold values, and choose plotting options."
   ]
  },
  {
   "cell_type": "code",
   "execution_count": 1,
   "metadata": {},
   "outputs": [
    {
     "name": "stdout",
     "output_type": "stream",
     "text": [
      "Using both methods ... \n"
     ]
    }
   ],
   "source": [
    "from array import array\n",
    "import math\n",
    "\n",
    "ichoice = 3\n",
    "\n",
    "n = 20\n",
    "\n",
    "# derivative functions:  exact, using forward derivative approx., and using +/- derivative approx\n",
    "dfunc = array('d')\n",
    "dfunch = array('d')\n",
    "dfunchh = array('d')\n",
    "\n",
    "# basic functions:  f(x), f(x+h), f(x-h), f(x+2h), f(x-2h)\n",
    "xfunc = array('d')\n",
    "xfunchp = array('d')\n",
    "xfunchm = array('d')\n",
    "\n",
    "# h values\n",
    "x = array('d')\n",
    "\n",
    "# difference arrays for (a) forward derivative and (b) +/- derivative \n",
    "diff = array('d')\n",
    "difftwo = array('d')\n",
    "\n",
    "xval = 1.0\n",
    "\n",
    "if ichoice == 1:\n",
    "    print (\"Using forward derivative ... \")\n",
    "elif ichoice == 2:\n",
    "    print (\"Using centered derivative ... \")\n",
    "else:\n",
    "    print (\"Using both methods ... \")"
   ]
  },
  {
   "cell_type": "markdown",
   "metadata": {},
   "source": [
    "Define the function and its derivative"
   ]
  },
  {
   "cell_type": "code",
   "execution_count": 2,
   "metadata": {},
   "outputs": [],
   "source": [
    "def myfunction(x):\n",
    "    return x*x*x"
   ]
  },
  {
   "cell_type": "code",
   "execution_count": 3,
   "metadata": {},
   "outputs": [],
   "source": [
    "def myderivfunction(x):\n",
    "    return 3.0*x*x"
   ]
  },
  {
   "cell_type": "markdown",
   "metadata": {},
   "source": [
    "Loop over h values:  calculate derivative functions exactly, and using approximations."
   ]
  },
  {
   "cell_type": "code",
   "execution_count": 4,
   "metadata": {},
   "outputs": [],
   "source": [
    "for i in range(0,n):\n",
    "\n",
    "    hpower=i-n;\n",
    "    x.append(math.pow(10.0,int(hpower)));\n",
    "    \n",
    "    xp = xval+x[i]\n",
    "    xm = xval-x[i]\n",
    "    \n",
    "    xfunc.append(myfunction(xval));\n",
    "    xfunchp.append(myfunction(xp));\n",
    "    xfunchm.append(myfunction(xm));\n",
    "    dfunc.append(myderivfunction(xval));\n",
    "    \n",
    "    if ichoice == 1:\n",
    "        dfunch.append((xfunchp[i]-xfunc[i])/(x[i]));\n",
    "        diff.append(abs(dfunc[i]-dfunch[i]));\n",
    "    elif ichoice == 2:\n",
    "        dfunch.append((xfunchp[i]-xfunchm[i])/(2.0e+00*x[i]));\n",
    "        diff.append(abs(dfunc[i]-dfunch[i]));\n",
    "    else:\n",
    "        dfunch.append((xfunchp[i]-xfunc[i])/(x[i]));\n",
    "        dfunchh.append((xfunchp[i]-xfunchm[i])/(2.0e+00*x[i]));\n",
    "        diff.append(abs(dfunc[i]-dfunch[i]));\n",
    "        difftwo.append(abs(dfunc[i]-dfunchh[i]));"
   ]
  },
  {
   "cell_type": "markdown",
   "metadata": {},
   "source": [
    "Plot the results!"
   ]
  },
  {
   "cell_type": "code",
   "execution_count": 5,
   "metadata": {},
   "outputs": [
    {
     "name": "stdout",
     "output_type": "stream",
     "text": [
      "Welcome to JupyROOT 6.16/00\n"
     ]
    },
    {
     "data": {
      "image/png": "[encoded data removed]",
      "text/plain": [
       "<IPython.core.display.Image object>"
      ]
     },
     "metadata": {},
     "output_type": "display_data"
    }
   ],
   "source": [
    "from ROOT import TCanvas\n",
    "from ROOT import TGraph\n",
    "\n",
    "c1 = TCanvas(\"c1\",\"c1\",0,0,1000,800)\n",
    "gr = TGraph(n,x,diff)\n",
    "gr.SetMarkerStyle(21)\n",
    "gr.SetTitle(\"Rounding Error\")\n",
    "gr.GetXaxis().SetTitle(\"X\")\n",
    "gr.GetYaxis().SetTitle(\"Error\")\n",
    "\n",
    "gr2 = TGraph(n,x,difftwo)\n",
    "gr2.SetMarkerStyle(22)\n",
    "gr2.SetTitle(\"Rounding Error\")\n",
    "gr2.GetXaxis().SetTitle(\"X\")\n",
    "gr2.GetYaxis().SetTitle(\"Error\")\n",
    "\n",
    "gr2.Draw(\"APL\")\n",
    "gr.Draw(\"PL\")\n",
    "\n",
    "c1.SetLogx()\n",
    "c1.SetLogy()\n",
    "c1.Draw()"
   ]
  },
  {
   "cell_type": "code",
   "execution_count": null,
   "metadata": {},
   "outputs": [],
   "source": []
  },
  {
   "cell_type": "code",
   "execution_count": null,
   "metadata": {},
   "outputs": [],
   "source": []
  }
 ],
 "metadata": {
  "kernelspec": {
   "display_name": "Python 3",
   "language": "python",
   "name": "python3"
  },
  "language_info": {
   "codemirror_mode": {
    "name": "ipython",
    "version": 3
   },
   "file_extension": ".py",
   "mimetype": "text/x-python",
   "name": "python",
   "nbconvert_exporter": "python",
   "pygments_lexer": "ipython3",
   "version": "3.6.8"
  }
 },
 "nbformat": 4,
 "nbformat_minor": 2
}
