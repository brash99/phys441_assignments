{
 "cells": [
  {
   "cell_type": "code",
   "execution_count": 11,
   "metadata": {},
   "outputs": [],
   "source": [
    "from array import array\n",
    "import math\n",
    "import numpy as np"
   ]
  },
  {
   "cell_type": "code",
   "execution_count": 12,
   "metadata": {},
   "outputs": [],
   "source": [
    "def generator_function(x,par):\n",
    "    return par[0]+par[1]*x"
   ]
  },
  {
   "cell_type": "code",
   "execution_count": 13,
   "metadata": {},
   "outputs": [],
   "source": [
    "m = 1 #Set the order of the polynomial\n",
    "n = 15 #Set the number of data points\n",
    "jitter = array('d')\n",
    "jitter = [-2,2,-1,1,0,-2,2,-1,1,0,-2,2,-1,1,0]"
   ]
  },
  {
   "cell_type": "code",
   "execution_count": 14,
   "metadata": {},
   "outputs": [],
   "source": [
    "x = array('d')\n",
    "y = array('d')"
   ]
  },
  {
   "cell_type": "code",
   "execution_count": 15,
   "metadata": {},
   "outputs": [],
   "source": [
    "par = array('d')\n",
    "par.append(1.80)\n",
    "par.append(4.05)\n",
    "\n",
    "for i in range(0,n):\n",
    "    x.append(-4.0+8.0*i/n)\n",
    "    y.append(generator_function(x[i],par)+jitter[i])"
   ]
  },
  {
   "cell_type": "code",
   "execution_count": 16,
   "metadata": {},
   "outputs": [],
   "source": [
    "m_params = m + 1\n",
    "a = np.zeros(shape = (m_params,m_params))\n",
    "v = np.zeros(shape = (m_params,1))"
   ]
  },
  {
   "cell_type": "code",
   "execution_count": 17,
   "metadata": {},
   "outputs": [
    {
     "name": "stdout",
     "output_type": "stream",
     "text": [
      "A matrix = \n",
      "[[15.         -4.        ]\n",
      " [-4.         80.71111111]]\n",
      "V matrix = \n",
      "[[ 10.8 ]\n",
      " [324.48]]\n",
      "A_inverse = \n",
      "[[0.06755952 0.00334821]\n",
      " [0.00334821 0.0125558 ]]\n",
      "Diagonal Check:\n",
      "[[ 1.00000000e+00  0.00000000e+00]\n",
      " [-2.75793497e-17  1.00000000e+00]]\n",
      "Coefficients:\n",
      "[[1.81607143]\n",
      " [4.11026786]]\n"
     ]
    }
   ],
   "source": [
    "for k in range(0,m_params):\n",
    "    for i in range(0,n):\n",
    "        v[k][0]=v[k][0]+y[i]*math.pow(x[i],k)\n",
    "    #print (\"v[%d] = %f\" % (k,v[k][0]))\n",
    "    for j in range(0,m_params):\n",
    "        for i in range(0,n):\n",
    "            a[k][j]=a[k][j]+math.pow(x[i],k+j)\n",
    "        #print (\"a[%d][%d] = %f\" %(k,j,a[k][j]))\n",
    "        \n",
    "print (\"A matrix = \")        \n",
    "print (a)\n",
    "print(\"V matrix = \")\n",
    "print (v)\n",
    "\n",
    "ainv = np.linalg.inv(a)\n",
    "u1 = np.dot(a,ainv)\n",
    "\n",
    "print (\"A_inverse = \")\n",
    "print (ainv)\n",
    "print (\"Diagonal Check:\")\n",
    "print (u1)\n",
    "coeff = ainv*np.matrix(v)\n",
    "print (\"Coefficients:\")\n",
    "print (coeff)\n",
    "        "
   ]
  },
  {
   "cell_type": "code",
   "execution_count": 18,
   "metadata": {},
   "outputs": [
    {
     "name": "stdout",
     "output_type": "stream",
     "text": [
      "i = 0  y = -16.400000  yfit = -14.625000\n",
      "i = 1  y = -10.240000  yfit = -12.432857\n",
      "i = 2  y = -11.080000  yfit = -10.240714\n",
      "i = 3  y = -6.920000  yfit = -8.048571\n",
      "i = 4  y = -5.760000  yfit = -5.856429\n",
      "i = 5  y = -5.600000  yfit = -3.664286\n",
      "i = 6  y = 0.560000  yfit = -1.472143\n",
      "i = 7  y = -0.280000  yfit = 0.720000\n",
      "i = 8  y = 3.880000  yfit = 2.912143\n",
      "i = 9  y = 5.040000  yfit = 5.104286\n",
      "i = 10  y = 5.200000  yfit = 7.296429\n",
      "i = 11  y = 11.360000  yfit = 9.488571\n",
      "i = 12  y = 10.520000  yfit = 11.680714\n",
      "i = 13  y = 14.680000  yfit = 13.872857\n",
      "i = 14  y = 15.840000  yfit = 16.065000\n",
      "chi2/dof = 29.710714 / 13.000000\n"
     ]
    }
   ],
   "source": [
    "yfit = 0\n",
    "chi2 = 0\n",
    "for i in range(0,n):\n",
    "    for j in range(0,m+1):\n",
    "        yfit = yfit + coeff[j]*math.pow(x[i],j)\n",
    "    print (\"i = %d  y = %f  yfit = %f\" % (i,y[i],yfit))\n",
    "    chi2 = chi2 + math.pow((yfit-y[i]),2)\n",
    "    yfit = 0\n",
    "    \n",
    "chi2perdof = chi2/(n-m-1)\n",
    "print (\"chi2/dof = %f / %f\" % (chi2,(n-m-1)))"
   ]
  },
  {
   "cell_type": "code",
   "execution_count": 19,
   "metadata": {},
   "outputs": [
    {
     "name": "stdout",
     "output_type": "stream",
     "text": [
      "k = 0, err = 0.392942\n",
      "k = 1, err = 0.169398\n"
     ]
    }
   ],
   "source": [
    "for k in range(0,m+1):\n",
    "    print(\"k = %d, err = %f\" % (k,math.pow(ainv[k][k]*chi2perdof,0.5)))"
   ]
  },
  {
   "cell_type": "code",
   "execution_count": 20,
   "metadata": {},
   "outputs": [
    {
     "name": "stdout",
     "output_type": "stream",
     "text": [
      "Fit 1: 29.710714 13.000000 \n",
      "\n"
     ]
    },
    {
     "name": "stderr",
     "output_type": "stream",
     "text": [
      "Warning in <TCanvas::Constructor>: Deleting canvas with same name: c1\n"
     ]
    },
    {
     "data": {
      "image/png": "[encoded data removed]",
      "text/plain": [
       "<IPython.core.display.Image object>"
      ]
     },
     "metadata": {},
     "output_type": "display_data"
    }
   ],
   "source": [
    "#print (n,x,y)\n",
    "\n",
    "from ROOT import TCanvas, TFile\n",
    "from ROOT import TGraph, TF1\n",
    "from ROOT import gStyle\n",
    "gStyle.SetOptFit(1)\n",
    "\n",
    "c1 = TCanvas( 'c1', 'Simple Linear Fitting Example', 200, 10, 700, 500 )\n",
    "c1.SetGridx()\n",
    "c1.SetGridy()\n",
    "c1.GetFrame().SetFillColor( 21 )\n",
    "c1.GetFrame().SetBorderMode(-1 )\n",
    "c1.GetFrame().SetBorderSize( 5 )\n",
    "\n",
    "gr = TGraph(n,x,y)\n",
    "pfit1 = TF1(\"pfit1\",\"pol1\")\n",
    "gr.SetMarkerStyle(21)\n",
    "gr.SetTitle(\"Linear Fit\")\n",
    "gr.GetXaxis().SetTitle(\"X\")\n",
    "gr.GetYaxis().SetTitle(\"Y\")\n",
    "gr.Fit(\"pfit1\",\"q\")\n",
    "pfit1chi2 = pfit1.GetChisquare()\n",
    "pfit1ndf = pfit1.GetNDF()\n",
    "pfit1chi2ndf = pfit1chi2/pfit1ndf\n",
    "print(\"Fit 1: %f %f \\n\" % (pfit1chi2,pfit1ndf))\n",
    "gr.Draw(\"AP\")\n",
    "c1.Draw()"
   ]
  },
  {
   "cell_type": "code",
   "execution_count": null,
   "metadata": {},
   "outputs": [],
   "source": []
  }
 ],
 "metadata": {
  "kernelspec": {
   "display_name": "Python 3",
   "language": "python",
   "name": "python3"
  },
  "language_info": {
   "codemirror_mode": {
    "name": "ipython",
    "version": 3
   },
   "file_extension": ".py",
   "mimetype": "text/x-python",
   "name": "python",
   "nbconvert_exporter": "python",
   "pygments_lexer": "ipython3",
   "version": "3.6.8"
  }
 },
 "nbformat": 4,
 "nbformat_minor": 2
}
