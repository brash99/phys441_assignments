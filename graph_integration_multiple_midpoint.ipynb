{
 "cells": [
  {
   "cell_type": "code",
   "execution_count": 1,
   "metadata": {},
   "outputs": [
    {
     "name": "stdout",
     "output_type": "stream",
     "text": [
      "Welcome to JupyROOT 6.18/02\n"
     ]
    }
   ],
   "source": [
    "from ROOT import TCanvas, gPad\n",
    "from ROOT import TH1F, TGraph, TGraphErrors\n",
    "from ROOT import gStyle\n",
    "from array import array\n",
    "import math\n",
    "import random\n",
    "\n",
    "c1 = TCanvas( 'c1', 'Simple Integration Example', 200, 10, 1000, 800 )\n",
    "c1.SetGridx()\n",
    "c1.SetGridy()\n",
    "c1.GetFrame().SetFillColor( 42 )\n",
    "c1.GetFrame().SetBorderMode(-1 )\n",
    "c1.GetFrame().SetBorderSize( 5 )\n",
    "c1.Divide(2,2)"
   ]
  },
  {
   "cell_type": "code",
   "execution_count": 2,
   "metadata": {},
   "outputs": [],
   "source": [
    "def generator_function(x):\n",
    "    return 3.0/2.0*(1.0 - x*x)"
   ]
  },
  {
   "cell_type": "code",
   "execution_count": 3,
   "metadata": {},
   "outputs": [],
   "source": [
    "gStyle.SetOptFit(1)"
   ]
  },
  {
   "cell_type": "code",
   "execution_count": 4,
   "metadata": {},
   "outputs": [],
   "source": [
    "random.seed(1)"
   ]
  },
  {
   "cell_type": "code",
   "execution_count": 5,
   "metadata": {},
   "outputs": [
    {
     "name": "stdout",
     "output_type": "stream",
     "text": [
      "Midpoint integral = 1.0000125000000000\n",
      "Midpoint Error = 0.0000125000000000\n",
      "MC Integral = 0.9965445554986536 +/- 0.0484017236546976 for npoints = 100\n",
      "MC Error = 0.0034554445013464\n",
      "Midpoint integral = 1.0000001250000008\n",
      "Midpoint Error = 0.0000001250000008\n",
      "MC Integral = 1.0013197590593323 +/- 0.0113174747356607 for npoints = 1000\n",
      "MC Error = 0.0013197590593323\n",
      "Midpoint integral = 1.0000000012499979\n",
      "Midpoint Error = 0.0000000012499979\n",
      "MC Integral = 0.9993296122057134 +/- 0.0039444180337023 for npoints = 10000\n",
      "MC Error = 0.0006703877942866\n",
      "Midpoint integral = 1.0000000000124949\n",
      "Midpoint Error = 0.0000000000124949\n",
      "MC Integral = 0.9999911433646549 +/- 0.0015508276405469 for npoints = 100000\n",
      "MC Error = 0.0000088566353451\n",
      "Midpoint integral = 1.0000000000002010\n",
      "Midpoint Error = 0.0000000000002010\n",
      "MC Integral = 0.9999351258181325 +/- 0.0006130600625042 for npoints = 1000000\n",
      "MC Error = 0.0000648741818675\n"
     ]
    }
   ],
   "source": [
    "max_order = 6\n",
    "min_order = 2\n",
    "nbins = 20\n",
    "\n",
    "norders = max_order - min_order + 1\n",
    "nbin = nbins\n",
    "\n",
    "np = array('d')\n",
    "enp = array('d')\n",
    "sum2 = array('d')\n",
    "esum2 = array('d')\n",
    "esum3 = array('d')\n",
    "np2 = array('d')\n",
    "np2mid = array('d')\n",
    "\n",
    "summid = array('d')\n",
    "esummid = array('d')\n",
    "esummid3 = array('d')\n",
    "\n",
    "sum = [[0 for x in range(0,nbin)] for y in range(0,norders)]\n",
    "\n",
    "for j in range(min_order,max_order+1):\n",
    "    npoints = math.pow(10,j)\n",
    "    np.append(npoints)\n",
    "    np2.append(math.log(npoints))\n",
    "    np2mid.append(math.log(npoints))\n",
    "    enp.append(0.0)\n",
    "    sum2.append(0.0)\n",
    "    esum2.append(0.0)\n",
    "    esum3.append(0.0)\n",
    "    \n",
    "    summid.append(0.0)\n",
    "    esummid.append(0.0)\n",
    "    esummid3.append(0.0)\n",
    "    \n",
    "    xlow = 0.0\n",
    "    xhigh = 1.0\n",
    "    dx = (xhigh-xlow)/npoints\n",
    "        \n",
    "    for i in range(0,int(npoints)):\n",
    "        xmid = xlow+i*dx+dx/2.0\n",
    "        ymid = generator_function(xmid)\n",
    "        summid[j-min_order] += dx*ymid\n",
    "        \n",
    "    print(\"Midpoint integral = %.16f\" % summid[j-min_order])\n",
    "    esummid[j-min_order]=math.fabs(1.0-summid[j-min_order])\n",
    "    print(\"Midpoint Error = %.16f\" % esummid[j-min_order])\n",
    "    esummid3[j-min_order]=math.log(esummid[j-min_order])\n",
    "    \n",
    "    for k in range(0,nbin):\n",
    "        for i in range(0,int(npoints)):\n",
    "            xval = xlow+random.random()*(xhigh-xlow)\n",
    "            yval = generator_function(xval)\n",
    "            sum[j-min_order][k] += dx*yval\n",
    "        \n",
    "            \n",
    "    for k in range(0,nbin):\n",
    "        sum2[j-min_order] += sum[j-min_order][k]/nbin\n",
    "        \n",
    "    for k in range(0,nbin):\n",
    "        esum2[j-min_order] += math.pow((sum[j-min_order][k]-sum2[j-min_order]),2)/nbin\n",
    "    \n",
    "    esum2[j-min_order]=math.sqrt(esum2[j-min_order])\n",
    "    print(\"MC Integral = %.16f +/- %.16f for npoints = %d\" %(sum2[j-min_order],esum2[j-min_order],npoints))\n",
    "    print(\"MC Error = %.16f\" % math.fabs(1.0-sum2[j-min_order]))\n",
    "    esum3[j-min_order]=math.log(esum2[j-min_order])\n",
    "    \n",
    "    "
   ]
  },
  {
   "cell_type": "code",
   "execution_count": 6,
   "metadata": {},
   "outputs": [
    {
     "data": {
      "text/plain": [
       "<ROOT.TFitResultPtr object at 0x4cbfcc0>"
      ]
     },
     "execution_count": 6,
     "metadata": {},
     "output_type": "execute_result"
    },
    {
     "name": "stdout",
     "output_type": "stream",
     "text": [
      "\n",
      "****************************************\n",
      "Minimizer is Linear\n",
      "Chi2                      =     0.113786\n",
      "NDf                       =            3\n",
      "p0                        =     -1.09213   +/-   0.261288    \n",
      "p1                        =     -0.46579   +/-   0.0267466   \n",
      "\n",
      "****************************************\n",
      "Minimizer is Linear\n",
      "Chi2                      =    0.0903084\n",
      "NDf                       =            3\n",
      "p0                        =     -2.36421   +/-   0.232777    \n",
      "p1                        =     -1.95878   +/-   0.023828    \n"
     ]
    },
    {
     "name": "stderr",
     "output_type": "stream",
     "text": [
      "Error in <TFitResultPtr>: TFitResult is empty - use the fit option S\n",
      "Error in <TFitResultPtr>: TFitResult is empty - use the fit option S\n",
      "Error in <TFitResultPtr>: TFitResult is empty - use the fit option S\n",
      "Error in <TFitResultPtr>: TFitResult is empty - use the fit option S\n",
      "Error in <TFitResultPtr>: TFitResult is empty - use the fit option S\n",
      "Error in <TFitResultPtr>: TFitResult is empty - use the fit option S\n",
      "Error in <TFitResultPtr>: TFitResult is empty - use the fit option S\n",
      "Error in <TFitResultPtr>: TFitResult is empty - use the fit option S\n",
      "Error in <TFitResultPtr>: TFitResult is empty - use the fit option S\n",
      "Error in <TFitResultPtr>: TFitResult is empty - use the fit option S\n",
      "Error in <TFitResultPtr>: TFitResult is empty - use the fit option S\n",
      "Error in <TFitResultPtr>: TFitResult is empty - use the fit option S\n",
      "Error in <TFitResultPtr>: TFitResult is empty - use the fit option S\n",
      "Error in <TFitResultPtr>: TFitResult is empty - use the fit option S\n",
      "Error in <TFitResultPtr>: TFitResult is empty - use the fit option S\n",
      "Error in <TFitResultPtr>: TFitResult is empty - use the fit option S\n",
      "Error in <TFitResultPtr>: TFitResult is empty - use the fit option S\n",
      "Error in <TFitResultPtr>: TFitResult is empty - use the fit option S\n",
      "Error in <TFitResultPtr>: TFitResult is empty - use the fit option S\n",
      "Error in <TFitResultPtr>: TFitResult is empty - use the fit option S\n",
      "Error in <TFitResultPtr>: TFitResult is empty - use the fit option S\n",
      "Error in <TFitResultPtr>: TFitResult is empty - use the fit option S\n"
     ]
    }
   ],
   "source": [
    "gr = TGraphErrors(norders,np,sum2,enp,esum2);\n",
    "gr2 = TGraph(norders,np2,esum3);\n",
    "midgr = TGraphErrors(norders,np,summid,enp,esummid);\n",
    "midgr2 = TGraph(norders,np2mid,esummid3);\n",
    "\n",
    "gr.SetLineColor(2);\n",
    "gr.SetLineWidth(4);\n",
    "gr.SetMarkerColor(4);\n",
    "gr.SetMarkerStyle(21);\n",
    "gr.SetTitle(\"MC integration 1\");\n",
    "gr.GetXaxis().SetTitle(\"N points\");\n",
    "gr.GetYaxis().SetTitle(\"Integral\");\n",
    "midgr.SetLineColor(2);\n",
    "midgr.SetLineWidth(4);\n",
    "midgr.SetMarkerColor(4);\n",
    "midgr.SetMarkerStyle(21);\n",
    "midgr.SetTitle(\"Midpoint integration 1\");\n",
    "midgr.GetXaxis().SetTitle(\"N points\");\n",
    "midgr.GetYaxis().SetTitle(\"Integral\");\n",
    "gr2.SetLineColor(2);\n",
    "gr2.SetLineWidth(4);\n",
    "gr2.SetMarkerColor(4);\n",
    "gr2.SetMarkerStyle(21);\n",
    "gr2.SetTitle(\"MC integration 2\");\n",
    "gr2.GetXaxis().SetTitle(\"log(Npoints)\");\n",
    "gr2.GetYaxis().SetTitle(\"log(Error in Integral)\");\n",
    "midgr2.SetLineColor(2);\n",
    "midgr2.SetLineWidth(4);\n",
    "midgr2.SetMarkerColor(4);\n",
    "midgr2.SetMarkerStyle(21);\n",
    "midgr2.SetTitle(\"Midpoint integration 2\");\n",
    "midgr2.GetXaxis().SetTitle(\"log(Npoints)\");\n",
    "midgr2.GetYaxis().SetTitle(\"log(Error in Integral)\");\n",
    "\n",
    "c1.cd(1);\n",
    "gPad.SetLogx()\n",
    "gr.Draw();\n",
    "c1.cd(2);\n",
    "gPad.SetLogx()\n",
    "midgr.Draw()\n",
    "c1.cd(3)\n",
    "gr2.Draw();\n",
    "gr2.Fit(\"pol1\");\n",
    "c1.cd(4)\n",
    "midgr2.Draw();\n",
    "midgr2.Fit(\"pol1\")"
   ]
  },
  {
   "cell_type": "code",
   "execution_count": 7,
   "metadata": {},
   "outputs": [
    {
     "data": {
      "image/png": "[encoded data removed]",
      "text/plain": [
       "<IPython.core.display.Image object>"
      ]
     },
     "metadata": {},
     "output_type": "display_data"
    }
   ],
   "source": [
    "c1.Draw()"
   ]
  },
  {
   "cell_type": "code",
   "execution_count": null,
   "metadata": {
    "scrolled": true
   },
   "outputs": [],
   "source": []
  },
  {
   "cell_type": "code",
   "execution_count": null,
   "metadata": {},
   "outputs": [],
   "source": []
  },
  {
   "cell_type": "code",
   "execution_count": null,
   "metadata": {},
   "outputs": [],
   "source": []
  }
 ],
 "metadata": {
  "kernelspec": {
   "display_name": "Python 3",
   "language": "python",
   "name": "python3"
  },
  "language_info": {
   "codemirror_mode": {
    "name": "ipython",
    "version": 3
   },
   "file_extension": ".py",
   "mimetype": "text/x-python",
   "name": "python",
   "nbconvert_exporter": "python",
   "pygments_lexer": "ipython3",
   "version": "3.6.8"
  }
 },
 "nbformat": 4,
 "nbformat_minor": 2
}
